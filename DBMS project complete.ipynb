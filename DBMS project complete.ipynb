{
  "nbformat": 4,
  "nbformat_minor": 0,
  "metadata": {
    "colab": {
      "provenance": []
    },
    "kernelspec": {
      "name": "python3",
      "display_name": "Python 3"
    },
    "language_info": {
      "name": "python"
    }
  },
  "cells": [
    {
      "cell_type": "markdown",
      "source": [
        "## Install Java"
      ],
      "metadata": {
        "id": "Nu3B3YyNtOHQ"
      }
    },
    {
      "cell_type": "markdown",
      "source": [
        "Apache Spark and Sedona (formerly known as GeoSpark) are both built on the Java Virtual Machine (JVM).  This compatibility ensures that they can take advantage of the performance optimizations and garbage collection provided by the JVM.The JVM optimizes Java bytecode at runtime, which can lead to efficient execution of Spark jobs."
      ],
      "metadata": {
        "id": "k9Q7nKga7wr3"
      }
    },
    {
      "cell_type": "code",
      "execution_count": 1,
      "metadata": {
        "id": "WO1IDP51sjZ6"
      },
      "outputs": [],
      "source": [
        "!apt-get install openjdk-8-jdk-headless -qq > /dev/null"
      ]
    },
    {
      "cell_type": "markdown",
      "source": [
        "## Download Spark"
      ],
      "metadata": {
        "id": "je7WbNWutUAV"
      }
    },
    {
      "cell_type": "markdown",
      "source": [
        " Apache Spark is designed for distributed data processing across clusters of computers. Sedona leverages Spark's ability to handle large datasets efficiently by distributing the workload, which is crucial for geospatial data analysis that often involves large volumes of data."
      ],
      "metadata": {
        "id": "sF9nQF-m8Va4"
      }
    },
    {
      "cell_type": "code",
      "source": [
        "!wget -q https://dlcdn.apache.org/spark/spark-3.5.3/spark-3.5.3-bin-hadoop3.tgz\n",
        "!tar xf spark-3.5.3-bin-hadoop3.tgz"
      ],
      "metadata": {
        "id": "KYlfxh4XtH3d"
      },
      "execution_count": 2,
      "outputs": []
    },
    {
      "cell_type": "markdown",
      "source": [
        "## Set Environment Variables"
      ],
      "metadata": {
        "id": "fjwBE9aAw_KX"
      }
    },
    {
      "cell_type": "markdown",
      "source": [
        "This setup is done before starting a Spark application to ensure that the application can locate the Java and Spark installations and access Spark's Python libraries."
      ],
      "metadata": {
        "id": "26dwvWIQ-JQE"
      }
    },
    {
      "cell_type": "code",
      "source": [
        "import os\n",
        "os.environ[\"JAVA_HOME\"] = \"/usr/lib/jvm/java-8-openjdk-amd64\"\n",
        "os.environ[\"SPARK_HOME\"] = \"/content/spark-3.5.3-bin-hadoop3\"\n",
        "os.environ[\"PYTHONPATH\"] = \"/content/spark-3.5.3-bin-hadoop3/python\""
      ],
      "metadata": {
        "id": "m-kC13psxFH5"
      },
      "execution_count": 3,
      "outputs": []
    },
    {
      "cell_type": "markdown",
      "source": [
        "## Install PySpark"
      ],
      "metadata": {
        "id": "xV6kTBPdxMmU"
      }
    },
    {
      "cell_type": "markdown",
      "source": [
        "Pyspark provides a Spark-friendly framework that will allow me to leverage Sedona's geospatial capabilities directly on Spark DataFrames. This integration enables efficient processing of large-scale geospatial data without the need to convert data into other formats, such as Pandas."
      ],
      "metadata": {
        "id": "x8gRvpLa-ax3"
      }
    },
    {
      "cell_type": "code",
      "source": [
        "!pip install findspark\n",
        "import findspark\n",
        "findspark.init()"
      ],
      "metadata": {
        "colab": {
          "base_uri": "https://localhost:8080/"
        },
        "id": "CG-K8zDlxQ32",
        "outputId": "4388e07e-d999-4eb4-c399-55efa9580341"
      },
      "execution_count": 4,
      "outputs": [
        {
          "output_type": "stream",
          "name": "stdout",
          "text": [
            "Collecting findspark\n",
            "  Downloading findspark-2.0.1-py2.py3-none-any.whl.metadata (352 bytes)\n",
            "Downloading findspark-2.0.1-py2.py3-none-any.whl (4.4 kB)\n",
            "Installing collected packages: findspark\n",
            "Successfully installed findspark-2.0.1\n"
          ]
        }
      ]
    },
    {
      "cell_type": "markdown",
      "source": [
        "## Install Apache Sedona"
      ],
      "metadata": {
        "id": "Q8wdSdujtbNV"
      }
    },
    {
      "cell_type": "markdown",
      "source": [
        "Sedona provides a wide range of spatial functions, such as spatial joins, distance calculations, and geometric transformations. These functions are crucial for performing geospatial analyses."
      ],
      "metadata": {
        "id": "r7gBvcmk-pIZ"
      }
    },
    {
      "cell_type": "code",
      "source": [
        "# 1.1\n",
        "!pip install apache-sedona[spark]"
      ],
      "metadata": {
        "colab": {
          "base_uri": "https://localhost:8080/"
        },
        "id": "EnD7TZv0tYjT",
        "outputId": "7ca44aa7-ca81-475a-83db-5bcb7c8e81f2"
      },
      "execution_count": 5,
      "outputs": [
        {
          "output_type": "stream",
          "name": "stdout",
          "text": [
            "Collecting apache-sedona[spark]\n",
            "  Downloading apache_sedona-1.6.1-cp310-cp310-manylinux_2_17_x86_64.manylinux2014_x86_64.whl.metadata (2.0 kB)\n",
            "Requirement already satisfied: attrs in /usr/local/lib/python3.10/dist-packages (from apache-sedona[spark]) (24.2.0)\n",
            "Requirement already satisfied: shapely>=1.7.0 in /usr/local/lib/python3.10/dist-packages (from apache-sedona[spark]) (2.0.6)\n",
            "Collecting rasterio>=1.2.10 (from apache-sedona[spark])\n",
            "  Downloading rasterio-1.4.2-cp310-cp310-manylinux_2_17_x86_64.manylinux2014_x86_64.whl.metadata (9.1 kB)\n",
            "Requirement already satisfied: pyspark>=2.3.0 in ./spark-3.5.3-bin-hadoop3/python (from apache-sedona[spark]) (3.5.3)\n",
            "Requirement already satisfied: py4j==0.10.9.7 in /usr/local/lib/python3.10/dist-packages (from pyspark>=2.3.0->apache-sedona[spark]) (0.10.9.7)\n",
            "Collecting affine (from rasterio>=1.2.10->apache-sedona[spark])\n",
            "  Downloading affine-2.4.0-py3-none-any.whl.metadata (4.0 kB)\n",
            "Requirement already satisfied: certifi in /usr/local/lib/python3.10/dist-packages (from rasterio>=1.2.10->apache-sedona[spark]) (2024.8.30)\n",
            "Requirement already satisfied: click>=4.0 in /usr/local/lib/python3.10/dist-packages (from rasterio>=1.2.10->apache-sedona[spark]) (8.1.7)\n",
            "Collecting cligj>=0.5 (from rasterio>=1.2.10->apache-sedona[spark])\n",
            "  Downloading cligj-0.7.2-py3-none-any.whl.metadata (5.0 kB)\n",
            "Requirement already satisfied: numpy>=1.24 in /usr/local/lib/python3.10/dist-packages (from rasterio>=1.2.10->apache-sedona[spark]) (1.26.4)\n",
            "Collecting click-plugins (from rasterio>=1.2.10->apache-sedona[spark])\n",
            "  Downloading click_plugins-1.1.1-py2.py3-none-any.whl.metadata (6.4 kB)\n",
            "Requirement already satisfied: pyparsing in /usr/local/lib/python3.10/dist-packages (from rasterio>=1.2.10->apache-sedona[spark]) (3.2.0)\n",
            "Downloading rasterio-1.4.2-cp310-cp310-manylinux_2_17_x86_64.manylinux2014_x86_64.whl (22.2 MB)\n",
            "\u001b[2K   \u001b[90m━━━━━━━━━━━━━━━━━━━━━━━━━━━━━━━━━━━━━━━━\u001b[0m \u001b[32m22.2/22.2 MB\u001b[0m \u001b[31m23.7 MB/s\u001b[0m eta \u001b[36m0:00:00\u001b[0m\n",
            "\u001b[?25hDownloading apache_sedona-1.6.1-cp310-cp310-manylinux_2_17_x86_64.manylinux2014_x86_64.whl (177 kB)\n",
            "\u001b[2K   \u001b[90m━━━━━━━━━━━━━━━━━━━━━━━━━━━━━━━━━━━━━━━━\u001b[0m \u001b[32m177.7/177.7 kB\u001b[0m \u001b[31m7.3 MB/s\u001b[0m eta \u001b[36m0:00:00\u001b[0m\n",
            "\u001b[?25hDownloading cligj-0.7.2-py3-none-any.whl (7.1 kB)\n",
            "Downloading affine-2.4.0-py3-none-any.whl (15 kB)\n",
            "Downloading click_plugins-1.1.1-py2.py3-none-any.whl (7.5 kB)\n",
            "Installing collected packages: cligj, click-plugins, affine, rasterio, apache-sedona\n",
            "Successfully installed affine-2.4.0 apache-sedona-1.6.1 click-plugins-1.1.1 cligj-0.7.2 rasterio-1.4.2\n"
          ]
        }
      ]
    },
    {
      "cell_type": "markdown",
      "source": [
        "## Start Sedona"
      ],
      "metadata": {
        "id": "Yh7b3hJmtncy"
      }
    },
    {
      "cell_type": "markdown",
      "source": [
        "#### Imports"
      ],
      "metadata": {
        "id": "Vq0vQo4ht2Ls"
      }
    },
    {
      "cell_type": "markdown",
      "source": [
        "Together, these imports facilitate the seamless integration of geospatial data processing into Spark applications, enabling users to leverage the power of distributed computing for large-scale geospatial analyses."
      ],
      "metadata": {
        "id": "43bUp8ku_EeV"
      }
    },
    {
      "cell_type": "code",
      "source": [
        "from sedona.register.geo_registrator import SedonaRegistrator\n",
        "from pyspark.sql import SparkSession, Row\n",
        "from pyspark.sql.functions import col, when, lit, expr\n",
        "from sedona.utils.adapter import Adapter\n",
        "from sedona.core.spatialOperator import RangeQuery\n",
        "from datetime import datetime\n",
        "from shapely.geometry import box\n",
        "from sedona.core.SpatialRDD import SpatialRDD\n",
        "from sedona.core.enums import GridType\n",
        "from sedona.core.geom.envelope import Envelope\n",
        "from sedona.core.spatialOperator import RangeQueryRaw\n",
        "from pyspark.sql.functions import to_timestamp\n",
        "from pyspark.sql.types import StructType, StructField, TimestampType, StringType, ArrayType, BooleanType, IntegerType, FloatType, DoubleType"
      ],
      "metadata": {
        "id": "iX7q0HKStj_g"
      },
      "execution_count": 6,
      "outputs": []
    },
    {
      "cell_type": "code",
      "source": [
        "from google.colab import drive\n",
        "drive.mount('/content/drive')"
      ],
      "metadata": {
        "colab": {
          "base_uri": "https://localhost:8080/"
        },
        "id": "zlhtyZIS2MiX",
        "outputId": "e11ca5e3-6511-4624-d71c-2fcb085e9866"
      },
      "execution_count": 7,
      "outputs": [
        {
          "output_type": "stream",
          "name": "stdout",
          "text": [
            "Mounted at /content/drive\n"
          ]
        }
      ]
    },
    {
      "cell_type": "markdown",
      "source": [
        "#### Config"
      ],
      "metadata": {
        "id": "nTs8jup8uYO_"
      }
    },
    {
      "cell_type": "markdown",
      "source": [
        "We set up an Apache Spark environment integrated with Apache Sedona for geospatial data processing. It configures the necessary JAR packages and repositories to ensure that Sedona's geospatial functionalities are available in the Spark session. Finally, it creates a SedonaContext, allowing users to perform spatial analyses on large datasets efficiently"
      ],
      "metadata": {
        "id": "xz389PNh_qA4"
      }
    },
    {
      "cell_type": "code",
      "source": [
        "# set up spark which is required\n",
        "from sedona.spark import *\n",
        "config = SedonaContext.builder(). \\\n",
        "    config('spark.jars.packages',\n",
        "           'org.apache.sedona:sedona-spark-3.0_2.12:1.6.1,'\n",
        "           'org.datasyslab:geotools-wrapper:1.6.1-28.2'). \\\n",
        "    config('spark.jars.repositories', 'https://artifacts.unidata.ucar.edu/repository/unidata-all'). \\\n",
        "    getOrCreate()\n",
        "spark = SedonaContext.create(config)"
      ],
      "metadata": {
        "id": "4TlB7A7EuUmU"
      },
      "execution_count": 8,
      "outputs": []
    },
    {
      "cell_type": "markdown",
      "source": [
        "#### Load Data"
      ],
      "metadata": {
        "id": "e3D-JELd2bJS"
      }
    },
    {
      "cell_type": "code",
      "source": [
        "# 1.2\n",
        "data_path = \"/content/drive/MyDrive/dbms_dataset.json\"\n",
        "my_df = spark.read.json(data_path)\n",
        "\n",
        "my_df.printSchema()\n",
        "my_df.show(truncate=False)"
      ],
      "metadata": {
        "colab": {
          "base_uri": "https://localhost:8080/"
        },
        "id": "6vJX6qF7udzr",
        "outputId": "12e835e2-11aa-4682-d152-5da9e5783111"
      },
      "execution_count": 9,
      "outputs": [
        {
          "output_type": "stream",
          "name": "stdout",
          "text": [
            "root\n",
            " |-- contributors: string (nullable = true)\n",
            " |-- coordinates: struct (nullable = true)\n",
            " |    |-- coordinates: array (nullable = true)\n",
            " |    |    |-- element: double (containsNull = true)\n",
            " |    |-- type: string (nullable = true)\n",
            " |-- created_at: string (nullable = true)\n",
            " |-- display_text_range: array (nullable = true)\n",
            " |    |-- element: long (containsNull = true)\n",
            " |-- entities: struct (nullable = true)\n",
            " |    |-- hashtags: array (nullable = true)\n",
            " |    |    |-- element: struct (containsNull = true)\n",
            " |    |    |    |-- indices: array (nullable = true)\n",
            " |    |    |    |    |-- element: long (containsNull = true)\n",
            " |    |    |    |-- text: string (nullable = true)\n",
            " |    |-- media: array (nullable = true)\n",
            " |    |    |-- element: struct (containsNull = true)\n",
            " |    |    |    |-- display_url: string (nullable = true)\n",
            " |    |    |    |-- expanded_url: string (nullable = true)\n",
            " |    |    |    |-- id: long (nullable = true)\n",
            " |    |    |    |-- id_str: string (nullable = true)\n",
            " |    |    |    |-- indices: array (nullable = true)\n",
            " |    |    |    |    |-- element: long (containsNull = true)\n",
            " |    |    |    |-- media_url: string (nullable = true)\n",
            " |    |    |    |-- media_url_https: string (nullable = true)\n",
            " |    |    |    |-- sizes: struct (nullable = true)\n",
            " |    |    |    |    |-- large: struct (nullable = true)\n",
            " |    |    |    |    |    |-- h: long (nullable = true)\n",
            " |    |    |    |    |    |-- resize: string (nullable = true)\n",
            " |    |    |    |    |    |-- w: long (nullable = true)\n",
            " |    |    |    |    |-- medium: struct (nullable = true)\n",
            " |    |    |    |    |    |-- h: long (nullable = true)\n",
            " |    |    |    |    |    |-- resize: string (nullable = true)\n",
            " |    |    |    |    |    |-- w: long (nullable = true)\n",
            " |    |    |    |    |-- small: struct (nullable = true)\n",
            " |    |    |    |    |    |-- h: long (nullable = true)\n",
            " |    |    |    |    |    |-- resize: string (nullable = true)\n",
            " |    |    |    |    |    |-- w: long (nullable = true)\n",
            " |    |    |    |    |-- thumb: struct (nullable = true)\n",
            " |    |    |    |    |    |-- h: long (nullable = true)\n",
            " |    |    |    |    |    |-- resize: string (nullable = true)\n",
            " |    |    |    |    |    |-- w: long (nullable = true)\n",
            " |    |    |    |-- source_status_id: long (nullable = true)\n",
            " |    |    |    |-- source_status_id_str: string (nullable = true)\n",
            " |    |    |    |-- source_user_id: long (nullable = true)\n",
            " |    |    |    |-- source_user_id_str: string (nullable = true)\n",
            " |    |    |    |-- type: string (nullable = true)\n",
            " |    |    |    |-- url: string (nullable = true)\n",
            " |    |-- symbols: array (nullable = true)\n",
            " |    |    |-- element: struct (containsNull = true)\n",
            " |    |    |    |-- indices: array (nullable = true)\n",
            " |    |    |    |    |-- element: long (containsNull = true)\n",
            " |    |    |    |-- text: string (nullable = true)\n",
            " |    |-- urls: array (nullable = true)\n",
            " |    |    |-- element: struct (containsNull = true)\n",
            " |    |    |    |-- display_url: string (nullable = true)\n",
            " |    |    |    |-- expanded_url: string (nullable = true)\n",
            " |    |    |    |-- indices: array (nullable = true)\n",
            " |    |    |    |    |-- element: long (containsNull = true)\n",
            " |    |    |    |-- url: string (nullable = true)\n",
            " |    |-- user_mentions: array (nullable = true)\n",
            " |    |    |-- element: struct (containsNull = true)\n",
            " |    |    |    |-- id: long (nullable = true)\n",
            " |    |    |    |-- id_str: string (nullable = true)\n",
            " |    |    |    |-- indices: array (nullable = true)\n",
            " |    |    |    |    |-- element: long (containsNull = true)\n",
            " |    |    |    |-- name: string (nullable = true)\n",
            " |    |    |    |-- screen_name: string (nullable = true)\n",
            " |-- extended_entities: struct (nullable = true)\n",
            " |    |-- media: array (nullable = true)\n",
            " |    |    |-- element: struct (containsNull = true)\n",
            " |    |    |    |-- display_url: string (nullable = true)\n",
            " |    |    |    |-- expanded_url: string (nullable = true)\n",
            " |    |    |    |-- id: long (nullable = true)\n",
            " |    |    |    |-- id_str: string (nullable = true)\n",
            " |    |    |    |-- indices: array (nullable = true)\n",
            " |    |    |    |    |-- element: long (containsNull = true)\n",
            " |    |    |    |-- media_url: string (nullable = true)\n",
            " |    |    |    |-- media_url_https: string (nullable = true)\n",
            " |    |    |    |-- sizes: struct (nullable = true)\n",
            " |    |    |    |    |-- large: struct (nullable = true)\n",
            " |    |    |    |    |    |-- h: long (nullable = true)\n",
            " |    |    |    |    |    |-- resize: string (nullable = true)\n",
            " |    |    |    |    |    |-- w: long (nullable = true)\n",
            " |    |    |    |    |-- medium: struct (nullable = true)\n",
            " |    |    |    |    |    |-- h: long (nullable = true)\n",
            " |    |    |    |    |    |-- resize: string (nullable = true)\n",
            " |    |    |    |    |    |-- w: long (nullable = true)\n",
            " |    |    |    |    |-- small: struct (nullable = true)\n",
            " |    |    |    |    |    |-- h: long (nullable = true)\n",
            " |    |    |    |    |    |-- resize: string (nullable = true)\n",
            " |    |    |    |    |    |-- w: long (nullable = true)\n",
            " |    |    |    |    |-- thumb: struct (nullable = true)\n",
            " |    |    |    |    |    |-- h: long (nullable = true)\n",
            " |    |    |    |    |    |-- resize: string (nullable = true)\n",
            " |    |    |    |    |    |-- w: long (nullable = true)\n",
            " |    |    |    |-- source_status_id: long (nullable = true)\n",
            " |    |    |    |-- source_status_id_str: string (nullable = true)\n",
            " |    |    |    |-- source_user_id: long (nullable = true)\n",
            " |    |    |    |-- source_user_id_str: string (nullable = true)\n",
            " |    |    |    |-- type: string (nullable = true)\n",
            " |    |    |    |-- url: string (nullable = true)\n",
            " |    |    |    |-- video_info: struct (nullable = true)\n",
            " |    |    |    |    |-- aspect_ratio: array (nullable = true)\n",
            " |    |    |    |    |    |-- element: long (containsNull = true)\n",
            " |    |    |    |    |-- duration_millis: long (nullable = true)\n",
            " |    |    |    |    |-- variants: array (nullable = true)\n",
            " |    |    |    |    |    |-- element: struct (containsNull = true)\n",
            " |    |    |    |    |    |    |-- bitrate: long (nullable = true)\n",
            " |    |    |    |    |    |    |-- content_type: string (nullable = true)\n",
            " |    |    |    |    |    |    |-- url: string (nullable = true)\n",
            " |-- extended_tweet: struct (nullable = true)\n",
            " |    |-- display_text_range: array (nullable = true)\n",
            " |    |    |-- element: long (containsNull = true)\n",
            " |    |-- entities: struct (nullable = true)\n",
            " |    |    |-- hashtags: array (nullable = true)\n",
            " |    |    |    |-- element: struct (containsNull = true)\n",
            " |    |    |    |    |-- indices: array (nullable = true)\n",
            " |    |    |    |    |    |-- element: long (containsNull = true)\n",
            " |    |    |    |    |-- text: string (nullable = true)\n",
            " |    |    |-- media: array (nullable = true)\n",
            " |    |    |    |-- element: struct (containsNull = true)\n",
            " |    |    |    |    |-- display_url: string (nullable = true)\n",
            " |    |    |    |    |-- expanded_url: string (nullable = true)\n",
            " |    |    |    |    |-- id: long (nullable = true)\n",
            " |    |    |    |    |-- id_str: string (nullable = true)\n",
            " |    |    |    |    |-- indices: array (nullable = true)\n",
            " |    |    |    |    |    |-- element: long (containsNull = true)\n",
            " |    |    |    |    |-- media_url: string (nullable = true)\n",
            " |    |    |    |    |-- media_url_https: string (nullable = true)\n",
            " |    |    |    |    |-- sizes: struct (nullable = true)\n",
            " |    |    |    |    |    |-- large: struct (nullable = true)\n",
            " |    |    |    |    |    |    |-- h: long (nullable = true)\n",
            " |    |    |    |    |    |    |-- resize: string (nullable = true)\n",
            " |    |    |    |    |    |    |-- w: long (nullable = true)\n",
            " |    |    |    |    |    |-- medium: struct (nullable = true)\n",
            " |    |    |    |    |    |    |-- h: long (nullable = true)\n",
            " |    |    |    |    |    |    |-- resize: string (nullable = true)\n",
            " |    |    |    |    |    |    |-- w: long (nullable = true)\n",
            " |    |    |    |    |    |-- small: struct (nullable = true)\n",
            " |    |    |    |    |    |    |-- h: long (nullable = true)\n",
            " |    |    |    |    |    |    |-- resize: string (nullable = true)\n",
            " |    |    |    |    |    |    |-- w: long (nullable = true)\n",
            " |    |    |    |    |    |-- thumb: struct (nullable = true)\n",
            " |    |    |    |    |    |    |-- h: long (nullable = true)\n",
            " |    |    |    |    |    |    |-- resize: string (nullable = true)\n",
            " |    |    |    |    |    |    |-- w: long (nullable = true)\n",
            " |    |    |    |    |-- source_status_id: long (nullable = true)\n",
            " |    |    |    |    |-- source_status_id_str: string (nullable = true)\n",
            " |    |    |    |    |-- source_user_id: long (nullable = true)\n",
            " |    |    |    |    |-- source_user_id_str: string (nullable = true)\n",
            " |    |    |    |    |-- type: string (nullable = true)\n",
            " |    |    |    |    |-- url: string (nullable = true)\n",
            " |    |    |    |    |-- video_info: struct (nullable = true)\n",
            " |    |    |    |    |    |-- aspect_ratio: array (nullable = true)\n",
            " |    |    |    |    |    |    |-- element: long (containsNull = true)\n",
            " |    |    |    |    |    |-- duration_millis: long (nullable = true)\n",
            " |    |    |    |    |    |-- variants: array (nullable = true)\n",
            " |    |    |    |    |    |    |-- element: struct (containsNull = true)\n",
            " |    |    |    |    |    |    |    |-- bitrate: long (nullable = true)\n",
            " |    |    |    |    |    |    |    |-- content_type: string (nullable = true)\n",
            " |    |    |    |    |    |    |    |-- url: string (nullable = true)\n",
            " |    |    |-- symbols: array (nullable = true)\n",
            " |    |    |    |-- element: struct (containsNull = true)\n",
            " |    |    |    |    |-- indices: array (nullable = true)\n",
            " |    |    |    |    |    |-- element: long (containsNull = true)\n",
            " |    |    |    |    |-- text: string (nullable = true)\n",
            " |    |    |-- urls: array (nullable = true)\n",
            " |    |    |    |-- element: struct (containsNull = true)\n",
            " |    |    |    |    |-- display_url: string (nullable = true)\n",
            " |    |    |    |    |-- expanded_url: string (nullable = true)\n",
            " |    |    |    |    |-- indices: array (nullable = true)\n",
            " |    |    |    |    |    |-- element: long (containsNull = true)\n",
            " |    |    |    |    |-- url: string (nullable = true)\n",
            " |    |    |-- user_mentions: array (nullable = true)\n",
            " |    |    |    |-- element: struct (containsNull = true)\n",
            " |    |    |    |    |-- id: long (nullable = true)\n",
            " |    |    |    |    |-- id_str: string (nullable = true)\n",
            " |    |    |    |    |-- indices: array (nullable = true)\n",
            " |    |    |    |    |    |-- element: long (containsNull = true)\n",
            " |    |    |    |    |-- name: string (nullable = true)\n",
            " |    |    |    |    |-- screen_name: string (nullable = true)\n",
            " |    |-- extended_entities: struct (nullable = true)\n",
            " |    |    |-- media: array (nullable = true)\n",
            " |    |    |    |-- element: struct (containsNull = true)\n",
            " |    |    |    |    |-- display_url: string (nullable = true)\n",
            " |    |    |    |    |-- expanded_url: string (nullable = true)\n",
            " |    |    |    |    |-- id: long (nullable = true)\n",
            " |    |    |    |    |-- id_str: string (nullable = true)\n",
            " |    |    |    |    |-- indices: array (nullable = true)\n",
            " |    |    |    |    |    |-- element: long (containsNull = true)\n",
            " |    |    |    |    |-- media_url: string (nullable = true)\n",
            " |    |    |    |    |-- media_url_https: string (nullable = true)\n",
            " |    |    |    |    |-- sizes: struct (nullable = true)\n",
            " |    |    |    |    |    |-- large: struct (nullable = true)\n",
            " |    |    |    |    |    |    |-- h: long (nullable = true)\n",
            " |    |    |    |    |    |    |-- resize: string (nullable = true)\n",
            " |    |    |    |    |    |    |-- w: long (nullable = true)\n",
            " |    |    |    |    |    |-- medium: struct (nullable = true)\n",
            " |    |    |    |    |    |    |-- h: long (nullable = true)\n",
            " |    |    |    |    |    |    |-- resize: string (nullable = true)\n",
            " |    |    |    |    |    |    |-- w: long (nullable = true)\n",
            " |    |    |    |    |    |-- small: struct (nullable = true)\n",
            " |    |    |    |    |    |    |-- h: long (nullable = true)\n",
            " |    |    |    |    |    |    |-- resize: string (nullable = true)\n",
            " |    |    |    |    |    |    |-- w: long (nullable = true)\n",
            " |    |    |    |    |    |-- thumb: struct (nullable = true)\n",
            " |    |    |    |    |    |    |-- h: long (nullable = true)\n",
            " |    |    |    |    |    |    |-- resize: string (nullable = true)\n",
            " |    |    |    |    |    |    |-- w: long (nullable = true)\n",
            " |    |    |    |    |-- source_status_id: long (nullable = true)\n",
            " |    |    |    |    |-- source_status_id_str: string (nullable = true)\n",
            " |    |    |    |    |-- source_user_id: long (nullable = true)\n",
            " |    |    |    |    |-- source_user_id_str: string (nullable = true)\n",
            " |    |    |    |    |-- type: string (nullable = true)\n",
            " |    |    |    |    |-- url: string (nullable = true)\n",
            " |    |    |    |    |-- video_info: struct (nullable = true)\n",
            " |    |    |    |    |    |-- aspect_ratio: array (nullable = true)\n",
            " |    |    |    |    |    |    |-- element: long (containsNull = true)\n",
            " |    |    |    |    |    |-- duration_millis: long (nullable = true)\n",
            " |    |    |    |    |    |-- variants: array (nullable = true)\n",
            " |    |    |    |    |    |    |-- element: struct (containsNull = true)\n",
            " |    |    |    |    |    |    |    |-- bitrate: long (nullable = true)\n",
            " |    |    |    |    |    |    |    |-- content_type: string (nullable = true)\n",
            " |    |    |    |    |    |    |    |-- url: string (nullable = true)\n",
            " |    |-- full_text: string (nullable = true)\n",
            " |-- favorite_count: long (nullable = true)\n",
            " |-- favorited: boolean (nullable = true)\n",
            " |-- filter_level: string (nullable = true)\n",
            " |-- geo: struct (nullable = true)\n",
            " |    |-- coordinates: array (nullable = true)\n",
            " |    |    |-- element: double (containsNull = true)\n",
            " |    |-- type: string (nullable = true)\n",
            " |-- id: long (nullable = true)\n",
            " |-- id_str: string (nullable = true)\n",
            " |-- in_reply_to_screen_name: string (nullable = true)\n",
            " |-- in_reply_to_status_id: long (nullable = true)\n",
            " |-- in_reply_to_status_id_str: string (nullable = true)\n",
            " |-- in_reply_to_user_id: long (nullable = true)\n",
            " |-- in_reply_to_user_id_str: string (nullable = true)\n",
            " |-- is_quote_status: boolean (nullable = true)\n",
            " |-- lang: string (nullable = true)\n",
            " |-- limit: struct (nullable = true)\n",
            " |    |-- timestamp_ms: string (nullable = true)\n",
            " |    |-- track: long (nullable = true)\n",
            " |-- place: struct (nullable = true)\n",
            " |    |-- bounding_box: struct (nullable = true)\n",
            " |    |    |-- coordinates: array (nullable = true)\n",
            " |    |    |    |-- element: array (containsNull = true)\n",
            " |    |    |    |    |-- element: array (containsNull = true)\n",
            " |    |    |    |    |    |-- element: double (containsNull = true)\n",
            " |    |    |-- type: string (nullable = true)\n",
            " |    |-- country: string (nullable = true)\n",
            " |    |-- country_code: string (nullable = true)\n",
            " |    |-- full_name: string (nullable = true)\n",
            " |    |-- id: string (nullable = true)\n",
            " |    |-- name: string (nullable = true)\n",
            " |    |-- place_type: string (nullable = true)\n",
            " |    |-- url: string (nullable = true)\n",
            " |-- possibly_sensitive: boolean (nullable = true)\n",
            " |-- quoted_status: struct (nullable = true)\n",
            " |    |-- contributors: string (nullable = true)\n",
            " |    |-- coordinates: struct (nullable = true)\n",
            " |    |    |-- coordinates: array (nullable = true)\n",
            " |    |    |    |-- element: double (containsNull = true)\n",
            " |    |    |-- type: string (nullable = true)\n",
            " |    |-- created_at: string (nullable = true)\n",
            " |    |-- display_text_range: array (nullable = true)\n",
            " |    |    |-- element: long (containsNull = true)\n",
            " |    |-- entities: struct (nullable = true)\n",
            " |    |    |-- hashtags: array (nullable = true)\n",
            " |    |    |    |-- element: struct (containsNull = true)\n",
            " |    |    |    |    |-- indices: array (nullable = true)\n",
            " |    |    |    |    |    |-- element: long (containsNull = true)\n",
            " |    |    |    |    |-- text: string (nullable = true)\n",
            " |    |    |-- media: array (nullable = true)\n",
            " |    |    |    |-- element: struct (containsNull = true)\n",
            " |    |    |    |    |-- display_url: string (nullable = true)\n",
            " |    |    |    |    |-- expanded_url: string (nullable = true)\n",
            " |    |    |    |    |-- id: long (nullable = true)\n",
            " |    |    |    |    |-- id_str: string (nullable = true)\n",
            " |    |    |    |    |-- indices: array (nullable = true)\n",
            " |    |    |    |    |    |-- element: long (containsNull = true)\n",
            " |    |    |    |    |-- media_url: string (nullable = true)\n",
            " |    |    |    |    |-- media_url_https: string (nullable = true)\n",
            " |    |    |    |    |-- sizes: struct (nullable = true)\n",
            " |    |    |    |    |    |-- large: struct (nullable = true)\n",
            " |    |    |    |    |    |    |-- h: long (nullable = true)\n",
            " |    |    |    |    |    |    |-- resize: string (nullable = true)\n",
            " |    |    |    |    |    |    |-- w: long (nullable = true)\n",
            " |    |    |    |    |    |-- medium: struct (nullable = true)\n",
            " |    |    |    |    |    |    |-- h: long (nullable = true)\n",
            " |    |    |    |    |    |    |-- resize: string (nullable = true)\n",
            " |    |    |    |    |    |    |-- w: long (nullable = true)\n",
            " |    |    |    |    |    |-- small: struct (nullable = true)\n",
            " |    |    |    |    |    |    |-- h: long (nullable = true)\n",
            " |    |    |    |    |    |    |-- resize: string (nullable = true)\n",
            " |    |    |    |    |    |    |-- w: long (nullable = true)\n",
            " |    |    |    |    |    |-- thumb: struct (nullable = true)\n",
            " |    |    |    |    |    |    |-- h: long (nullable = true)\n",
            " |    |    |    |    |    |    |-- resize: string (nullable = true)\n",
            " |    |    |    |    |    |    |-- w: long (nullable = true)\n",
            " |    |    |    |    |-- source_status_id: long (nullable = true)\n",
            " |    |    |    |    |-- source_status_id_str: string (nullable = true)\n",
            " |    |    |    |    |-- source_user_id: long (nullable = true)\n",
            " |    |    |    |    |-- source_user_id_str: string (nullable = true)\n",
            " |    |    |    |    |-- type: string (nullable = true)\n",
            " |    |    |    |    |-- url: string (nullable = true)\n",
            " |    |    |-- symbols: array (nullable = true)\n",
            " |    |    |    |-- element: struct (containsNull = true)\n",
            " |    |    |    |    |-- indices: array (nullable = true)\n",
            " |    |    |    |    |    |-- element: long (containsNull = true)\n",
            " |    |    |    |    |-- text: string (nullable = true)\n",
            " |    |    |-- urls: array (nullable = true)\n",
            " |    |    |    |-- element: struct (containsNull = true)\n",
            " |    |    |    |    |-- display_url: string (nullable = true)\n",
            " |    |    |    |    |-- expanded_url: string (nullable = true)\n",
            " |    |    |    |    |-- indices: array (nullable = true)\n",
            " |    |    |    |    |    |-- element: long (containsNull = true)\n",
            " |    |    |    |    |-- url: string (nullable = true)\n",
            " |    |    |-- user_mentions: array (nullable = true)\n",
            " |    |    |    |-- element: struct (containsNull = true)\n",
            " |    |    |    |    |-- id: long (nullable = true)\n",
            " |    |    |    |    |-- id_str: string (nullable = true)\n",
            " |    |    |    |    |-- indices: array (nullable = true)\n",
            " |    |    |    |    |    |-- element: long (containsNull = true)\n",
            " |    |    |    |    |-- name: string (nullable = true)\n",
            " |    |    |    |    |-- screen_name: string (nullable = true)\n",
            " |    |-- extended_entities: struct (nullable = true)\n",
            " |    |    |-- media: array (nullable = true)\n",
            " |    |    |    |-- element: struct (containsNull = true)\n",
            " |    |    |    |    |-- display_url: string (nullable = true)\n",
            " |    |    |    |    |-- expanded_url: string (nullable = true)\n",
            " |    |    |    |    |-- id: long (nullable = true)\n",
            " |    |    |    |    |-- id_str: string (nullable = true)\n",
            " |    |    |    |    |-- indices: array (nullable = true)\n",
            " |    |    |    |    |    |-- element: long (containsNull = true)\n",
            " |    |    |    |    |-- media_url: string (nullable = true)\n",
            " |    |    |    |    |-- media_url_https: string (nullable = true)\n",
            " |    |    |    |    |-- sizes: struct (nullable = true)\n",
            " |    |    |    |    |    |-- large: struct (nullable = true)\n",
            " |    |    |    |    |    |    |-- h: long (nullable = true)\n",
            " |    |    |    |    |    |    |-- resize: string (nullable = true)\n",
            " |    |    |    |    |    |    |-- w: long (nullable = true)\n",
            " |    |    |    |    |    |-- medium: struct (nullable = true)\n",
            " |    |    |    |    |    |    |-- h: long (nullable = true)\n",
            " |    |    |    |    |    |    |-- resize: string (nullable = true)\n",
            " |    |    |    |    |    |    |-- w: long (nullable = true)\n",
            " |    |    |    |    |    |-- small: struct (nullable = true)\n",
            " |    |    |    |    |    |    |-- h: long (nullable = true)\n",
            " |    |    |    |    |    |    |-- resize: string (nullable = true)\n",
            " |    |    |    |    |    |    |-- w: long (nullable = true)\n",
            " |    |    |    |    |    |-- thumb: struct (nullable = true)\n",
            " |    |    |    |    |    |    |-- h: long (nullable = true)\n",
            " |    |    |    |    |    |    |-- resize: string (nullable = true)\n",
            " |    |    |    |    |    |    |-- w: long (nullable = true)\n",
            " |    |    |    |    |-- source_status_id: long (nullable = true)\n",
            " |    |    |    |    |-- source_status_id_str: string (nullable = true)\n",
            " |    |    |    |    |-- source_user_id: long (nullable = true)\n",
            " |    |    |    |    |-- source_user_id_str: string (nullable = true)\n",
            " |    |    |    |    |-- type: string (nullable = true)\n",
            " |    |    |    |    |-- url: string (nullable = true)\n",
            " |    |    |    |    |-- video_info: struct (nullable = true)\n",
            " |    |    |    |    |    |-- aspect_ratio: array (nullable = true)\n",
            " |    |    |    |    |    |    |-- element: long (containsNull = true)\n",
            " |    |    |    |    |    |-- duration_millis: long (nullable = true)\n",
            " |    |    |    |    |    |-- variants: array (nullable = true)\n",
            " |    |    |    |    |    |    |-- element: struct (containsNull = true)\n",
            " |    |    |    |    |    |    |    |-- bitrate: long (nullable = true)\n",
            " |    |    |    |    |    |    |    |-- content_type: string (nullable = true)\n",
            " |    |    |    |    |    |    |    |-- url: string (nullable = true)\n",
            " |    |-- extended_tweet: struct (nullable = true)\n",
            " |    |    |-- display_text_range: array (nullable = true)\n",
            " |    |    |    |-- element: long (containsNull = true)\n",
            " |    |    |-- entities: struct (nullable = true)\n",
            " |    |    |    |-- hashtags: array (nullable = true)\n",
            " |    |    |    |    |-- element: struct (containsNull = true)\n",
            " |    |    |    |    |    |-- indices: array (nullable = true)\n",
            " |    |    |    |    |    |    |-- element: long (containsNull = true)\n",
            " |    |    |    |    |    |-- text: string (nullable = true)\n",
            " |    |    |    |-- media: array (nullable = true)\n",
            " |    |    |    |    |-- element: struct (containsNull = true)\n",
            " |    |    |    |    |    |-- display_url: string (nullable = true)\n",
            " |    |    |    |    |    |-- expanded_url: string (nullable = true)\n",
            " |    |    |    |    |    |-- id: long (nullable = true)\n",
            " |    |    |    |    |    |-- id_str: string (nullable = true)\n",
            " |    |    |    |    |    |-- indices: array (nullable = true)\n",
            " |    |    |    |    |    |    |-- element: long (containsNull = true)\n",
            " |    |    |    |    |    |-- media_url: string (nullable = true)\n",
            " |    |    |    |    |    |-- media_url_https: string (nullable = true)\n",
            " |    |    |    |    |    |-- sizes: struct (nullable = true)\n",
            " |    |    |    |    |    |    |-- large: struct (nullable = true)\n",
            " |    |    |    |    |    |    |    |-- h: long (nullable = true)\n",
            " |    |    |    |    |    |    |    |-- resize: string (nullable = true)\n",
            " |    |    |    |    |    |    |    |-- w: long (nullable = true)\n",
            " |    |    |    |    |    |    |-- medium: struct (nullable = true)\n",
            " |    |    |    |    |    |    |    |-- h: long (nullable = true)\n",
            " |    |    |    |    |    |    |    |-- resize: string (nullable = true)\n",
            " |    |    |    |    |    |    |    |-- w: long (nullable = true)\n",
            " |    |    |    |    |    |    |-- small: struct (nullable = true)\n",
            " |    |    |    |    |    |    |    |-- h: long (nullable = true)\n",
            " |    |    |    |    |    |    |    |-- resize: string (nullable = true)\n",
            " |    |    |    |    |    |    |    |-- w: long (nullable = true)\n",
            " |    |    |    |    |    |    |-- thumb: struct (nullable = true)\n",
            " |    |    |    |    |    |    |    |-- h: long (nullable = true)\n",
            " |    |    |    |    |    |    |    |-- resize: string (nullable = true)\n",
            " |    |    |    |    |    |    |    |-- w: long (nullable = true)\n",
            " |    |    |    |    |    |-- source_status_id: long (nullable = true)\n",
            " |    |    |    |    |    |-- source_status_id_str: string (nullable = true)\n",
            " |    |    |    |    |    |-- source_user_id: long (nullable = true)\n",
            " |    |    |    |    |    |-- source_user_id_str: string (nullable = true)\n",
            " |    |    |    |    |    |-- type: string (nullable = true)\n",
            " |    |    |    |    |    |-- url: string (nullable = true)\n",
            " |    |    |    |    |    |-- video_info: struct (nullable = true)\n",
            " |    |    |    |    |    |    |-- aspect_ratio: array (nullable = true)\n",
            " |    |    |    |    |    |    |    |-- element: long (containsNull = true)\n",
            " |    |    |    |    |    |    |-- duration_millis: long (nullable = true)\n",
            " |    |    |    |    |    |    |-- variants: array (nullable = true)\n",
            " |    |    |    |    |    |    |    |-- element: struct (containsNull = true)\n",
            " |    |    |    |    |    |    |    |    |-- bitrate: long (nullable = true)\n",
            " |    |    |    |    |    |    |    |    |-- content_type: string (nullable = true)\n",
            " |    |    |    |    |    |    |    |    |-- url: string (nullable = true)\n",
            " |    |    |    |-- symbols: array (nullable = true)\n",
            " |    |    |    |    |-- element: struct (containsNull = true)\n",
            " |    |    |    |    |    |-- indices: array (nullable = true)\n",
            " |    |    |    |    |    |    |-- element: long (containsNull = true)\n",
            " |    |    |    |    |    |-- text: string (nullable = true)\n",
            " |    |    |    |-- urls: array (nullable = true)\n",
            " |    |    |    |    |-- element: struct (containsNull = true)\n",
            " |    |    |    |    |    |-- display_url: string (nullable = true)\n",
            " |    |    |    |    |    |-- expanded_url: string (nullable = true)\n",
            " |    |    |    |    |    |-- indices: array (nullable = true)\n",
            " |    |    |    |    |    |    |-- element: long (containsNull = true)\n",
            " |    |    |    |    |    |-- url: string (nullable = true)\n",
            " |    |    |    |-- user_mentions: array (nullable = true)\n",
            " |    |    |    |    |-- element: struct (containsNull = true)\n",
            " |    |    |    |    |    |-- id: long (nullable = true)\n",
            " |    |    |    |    |    |-- id_str: string (nullable = true)\n",
            " |    |    |    |    |    |-- indices: array (nullable = true)\n",
            " |    |    |    |    |    |    |-- element: long (containsNull = true)\n",
            " |    |    |    |    |    |-- name: string (nullable = true)\n",
            " |    |    |    |    |    |-- screen_name: string (nullable = true)\n",
            " |    |    |-- extended_entities: struct (nullable = true)\n",
            " |    |    |    |-- media: array (nullable = true)\n",
            " |    |    |    |    |-- element: struct (containsNull = true)\n",
            " |    |    |    |    |    |-- display_url: string (nullable = true)\n",
            " |    |    |    |    |    |-- expanded_url: string (nullable = true)\n",
            " |    |    |    |    |    |-- id: long (nullable = true)\n",
            " |    |    |    |    |    |-- id_str: string (nullable = true)\n",
            " |    |    |    |    |    |-- indices: array (nullable = true)\n",
            " |    |    |    |    |    |    |-- element: long (containsNull = true)\n",
            " |    |    |    |    |    |-- media_url: string (nullable = true)\n",
            " |    |    |    |    |    |-- media_url_https: string (nullable = true)\n",
            " |    |    |    |    |    |-- sizes: struct (nullable = true)\n",
            " |    |    |    |    |    |    |-- large: struct (nullable = true)\n",
            " |    |    |    |    |    |    |    |-- h: long (nullable = true)\n",
            " |    |    |    |    |    |    |    |-- resize: string (nullable = true)\n",
            " |    |    |    |    |    |    |    |-- w: long (nullable = true)\n",
            " |    |    |    |    |    |    |-- medium: struct (nullable = true)\n",
            " |    |    |    |    |    |    |    |-- h: long (nullable = true)\n",
            " |    |    |    |    |    |    |    |-- resize: string (nullable = true)\n",
            " |    |    |    |    |    |    |    |-- w: long (nullable = true)\n",
            " |    |    |    |    |    |    |-- small: struct (nullable = true)\n",
            " |    |    |    |    |    |    |    |-- h: long (nullable = true)\n",
            " |    |    |    |    |    |    |    |-- resize: string (nullable = true)\n",
            " |    |    |    |    |    |    |    |-- w: long (nullable = true)\n",
            " |    |    |    |    |    |    |-- thumb: struct (nullable = true)\n",
            " |    |    |    |    |    |    |    |-- h: long (nullable = true)\n",
            " |    |    |    |    |    |    |    |-- resize: string (nullable = true)\n",
            " |    |    |    |    |    |    |    |-- w: long (nullable = true)\n",
            " |    |    |    |    |    |-- source_status_id: long (nullable = true)\n",
            " |    |    |    |    |    |-- source_status_id_str: string (nullable = true)\n",
            " |    |    |    |    |    |-- source_user_id: long (nullable = true)\n",
            " |    |    |    |    |    |-- source_user_id_str: string (nullable = true)\n",
            " |    |    |    |    |    |-- type: string (nullable = true)\n",
            " |    |    |    |    |    |-- url: string (nullable = true)\n",
            " |    |    |    |    |    |-- video_info: struct (nullable = true)\n",
            " |    |    |    |    |    |    |-- aspect_ratio: array (nullable = true)\n",
            " |    |    |    |    |    |    |    |-- element: long (containsNull = true)\n",
            " |    |    |    |    |    |    |-- duration_millis: long (nullable = true)\n",
            " |    |    |    |    |    |    |-- variants: array (nullable = true)\n",
            " |    |    |    |    |    |    |    |-- element: struct (containsNull = true)\n",
            " |    |    |    |    |    |    |    |    |-- bitrate: long (nullable = true)\n",
            " |    |    |    |    |    |    |    |    |-- content_type: string (nullable = true)\n",
            " |    |    |    |    |    |    |    |    |-- url: string (nullable = true)\n",
            " |    |    |-- full_text: string (nullable = true)\n",
            " |    |-- favorite_count: long (nullable = true)\n",
            " |    |-- favorited: boolean (nullable = true)\n",
            " |    |-- filter_level: string (nullable = true)\n",
            " |    |-- geo: struct (nullable = true)\n",
            " |    |    |-- coordinates: array (nullable = true)\n",
            " |    |    |    |-- element: double (containsNull = true)\n",
            " |    |    |-- type: string (nullable = true)\n",
            " |    |-- id: long (nullable = true)\n",
            " |    |-- id_str: string (nullable = true)\n",
            " |    |-- in_reply_to_screen_name: string (nullable = true)\n",
            " |    |-- in_reply_to_status_id: long (nullable = true)\n",
            " |    |-- in_reply_to_status_id_str: string (nullable = true)\n",
            " |    |-- in_reply_to_user_id: long (nullable = true)\n",
            " |    |-- in_reply_to_user_id_str: string (nullable = true)\n",
            " |    |-- is_quote_status: boolean (nullable = true)\n",
            " |    |-- lang: string (nullable = true)\n",
            " |    |-- place: struct (nullable = true)\n",
            " |    |    |-- bounding_box: struct (nullable = true)\n",
            " |    |    |    |-- coordinates: array (nullable = true)\n",
            " |    |    |    |    |-- element: array (containsNull = true)\n",
            " |    |    |    |    |    |-- element: array (containsNull = true)\n",
            " |    |    |    |    |    |    |-- element: double (containsNull = true)\n",
            " |    |    |    |-- type: string (nullable = true)\n",
            " |    |    |-- country: string (nullable = true)\n",
            " |    |    |-- country_code: string (nullable = true)\n",
            " |    |    |-- full_name: string (nullable = true)\n",
            " |    |    |-- id: string (nullable = true)\n",
            " |    |    |-- name: string (nullable = true)\n",
            " |    |    |-- place_type: string (nullable = true)\n",
            " |    |    |-- url: string (nullable = true)\n",
            " |    |-- possibly_sensitive: boolean (nullable = true)\n",
            " |    |-- quoted_status_id: long (nullable = true)\n",
            " |    |-- quoted_status_id_str: string (nullable = true)\n",
            " |    |-- retweet_count: long (nullable = true)\n",
            " |    |-- retweeted: boolean (nullable = true)\n",
            " |    |-- scopes: struct (nullable = true)\n",
            " |    |    |-- followers: boolean (nullable = true)\n",
            " |    |-- source: string (nullable = true)\n",
            " |    |-- text: string (nullable = true)\n",
            " |    |-- truncated: boolean (nullable = true)\n",
            " |    |-- user: struct (nullable = true)\n",
            " |    |    |-- contributors_enabled: boolean (nullable = true)\n",
            " |    |    |-- created_at: string (nullable = true)\n",
            " |    |    |-- default_profile: boolean (nullable = true)\n",
            " |    |    |-- default_profile_image: boolean (nullable = true)\n",
            " |    |    |-- description: string (nullable = true)\n",
            " |    |    |-- favourites_count: long (nullable = true)\n",
            " |    |    |-- follow_request_sent: string (nullable = true)\n",
            " |    |    |-- followers_count: long (nullable = true)\n",
            " |    |    |-- following: string (nullable = true)\n",
            " |    |    |-- friends_count: long (nullable = true)\n",
            " |    |    |-- geo_enabled: boolean (nullable = true)\n",
            " |    |    |-- id: long (nullable = true)\n",
            " |    |    |-- id_str: string (nullable = true)\n",
            " |    |    |-- is_translator: boolean (nullable = true)\n",
            " |    |    |-- lang: string (nullable = true)\n",
            " |    |    |-- listed_count: long (nullable = true)\n",
            " |    |    |-- location: string (nullable = true)\n",
            " |    |    |-- name: string (nullable = true)\n",
            " |    |    |-- notifications: string (nullable = true)\n",
            " |    |    |-- profile_background_color: string (nullable = true)\n",
            " |    |    |-- profile_background_image_url: string (nullable = true)\n",
            " |    |    |-- profile_background_image_url_https: string (nullable = true)\n",
            " |    |    |-- profile_background_tile: boolean (nullable = true)\n",
            " |    |    |-- profile_banner_url: string (nullable = true)\n",
            " |    |    |-- profile_image_url: string (nullable = true)\n",
            " |    |    |-- profile_image_url_https: string (nullable = true)\n",
            " |    |    |-- profile_link_color: string (nullable = true)\n",
            " |    |    |-- profile_sidebar_border_color: string (nullable = true)\n",
            " |    |    |-- profile_sidebar_fill_color: string (nullable = true)\n",
            " |    |    |-- profile_text_color: string (nullable = true)\n",
            " |    |    |-- profile_use_background_image: boolean (nullable = true)\n",
            " |    |    |-- protected: boolean (nullable = true)\n",
            " |    |    |-- screen_name: string (nullable = true)\n",
            " |    |    |-- statuses_count: long (nullable = true)\n",
            " |    |    |-- time_zone: string (nullable = true)\n",
            " |    |    |-- url: string (nullable = true)\n",
            " |    |    |-- utc_offset: long (nullable = true)\n",
            " |    |    |-- verified: boolean (nullable = true)\n",
            " |    |-- withheld_in_countries: array (nullable = true)\n",
            " |    |    |-- element: string (containsNull = true)\n",
            " |-- quoted_status_id: long (nullable = true)\n",
            " |-- quoted_status_id_str: string (nullable = true)\n",
            " |-- retweet_count: long (nullable = true)\n",
            " |-- retweeted: boolean (nullable = true)\n",
            " |-- source: string (nullable = true)\n",
            " |-- text: string (nullable = true)\n",
            " |-- timestamp_ms: string (nullable = true)\n",
            " |-- truncated: boolean (nullable = true)\n",
            " |-- user: struct (nullable = true)\n",
            " |    |-- contributors_enabled: boolean (nullable = true)\n",
            " |    |-- created_at: string (nullable = true)\n",
            " |    |-- default_profile: boolean (nullable = true)\n",
            " |    |-- default_profile_image: boolean (nullable = true)\n",
            " |    |-- description: string (nullable = true)\n",
            " |    |-- favourites_count: long (nullable = true)\n",
            " |    |-- follow_request_sent: string (nullable = true)\n",
            " |    |-- followers_count: long (nullable = true)\n",
            " |    |-- following: string (nullable = true)\n",
            " |    |-- friends_count: long (nullable = true)\n",
            " |    |-- geo_enabled: boolean (nullable = true)\n",
            " |    |-- id: long (nullable = true)\n",
            " |    |-- id_str: string (nullable = true)\n",
            " |    |-- is_translator: boolean (nullable = true)\n",
            " |    |-- lang: string (nullable = true)\n",
            " |    |-- listed_count: long (nullable = true)\n",
            " |    |-- location: string (nullable = true)\n",
            " |    |-- name: string (nullable = true)\n",
            " |    |-- notifications: string (nullable = true)\n",
            " |    |-- profile_background_color: string (nullable = true)\n",
            " |    |-- profile_background_image_url: string (nullable = true)\n",
            " |    |-- profile_background_image_url_https: string (nullable = true)\n",
            " |    |-- profile_background_tile: boolean (nullable = true)\n",
            " |    |-- profile_banner_url: string (nullable = true)\n",
            " |    |-- profile_image_url: string (nullable = true)\n",
            " |    |-- profile_image_url_https: string (nullable = true)\n",
            " |    |-- profile_link_color: string (nullable = true)\n",
            " |    |-- profile_sidebar_border_color: string (nullable = true)\n",
            " |    |-- profile_sidebar_fill_color: string (nullable = true)\n",
            " |    |-- profile_text_color: string (nullable = true)\n",
            " |    |-- profile_use_background_image: boolean (nullable = true)\n",
            " |    |-- protected: boolean (nullable = true)\n",
            " |    |-- screen_name: string (nullable = true)\n",
            " |    |-- statuses_count: long (nullable = true)\n",
            " |    |-- time_zone: string (nullable = true)\n",
            " |    |-- url: string (nullable = true)\n",
            " |    |-- utc_offset: long (nullable = true)\n",
            " |    |-- verified: boolean (nullable = true)\n",
            "\n",
            "+------------+-------------------------------------+------------------------------+------------------+------------------------------------------------------------------------------------------------------------------------------------------------------------------------------------------------------------------------------------------------------------------------------------------------------------------------------------------------------------------------------------------------------------------------------------------------------------------------------------------------------------------------------------------+----------------------------------------------------------------------------------------------------------------------------------------------------------------------------------------------------------------------------------------------------------------------------------------------------------------------------------------------------------------------------------------------------------------------------------------------------------------------------------------------------------------------------------------------------------------------------------------------------------------------------------------------------------------------------------------------------------------------------------------------------------------------------------------------------------------------------------------------------------------------------------------------------------------------------------------------------------------------------------------------------------------------------------------------------------------------------------------------------------------------------------------------------------------------------------------------------------------------------------------------------------------------------------------------------------------------------------------------------------------------------------------------------------------------------------------------------------------------------------------------------------------------------------------------------------------------+--------------+--------------+---------+------------+-------------------------------------+------------------+------------------+-----------------------+---------------------+-------------------------+-------------------+-----------------------+---------------+----+-----------------------+--------------------------------------------------------------------------------------------------------------------------------------------------------------------------------------------------------------------------------------------------------------------------------------+------------------+---------------------------------------------------------------------------------------------------------------------------------------------------------------------------------------------------------------------------------------------------------------------------------------------------------------------------------------------------------------------------------------------------------------------------------------------------------------------------------------------------------------------------------------------------------------------------------------------------------------------------------------------------------------------------------------------------------------------------------------------------------------------------------------------------------------------------------------------------------------------------------------------------------------------------------------------------------------------------------------------------------------------------------------------------------------------------------------------------------------------------------------------+------------------+--------------------+-------------+---------+------------------------------------------------------------------------------------+-----------------------------------------------------------------------------------------------------------------------------------------------------------------------------------+-------------+---------+-------------------------------------------------------------------------------------------------------------------------------------------------------------------------------------------------------------------------------------------------------------------------------------------------------------------------------------------------------------------------------------------------------------------------------------------------------------------------------------------------------------------------------------------------------------------------------------------------------------------------------------------------------------------------------------------------------------------------------------------------------------------------------------------------------------------------------------------------------------------------------------------------------------------------------------------------------------------------------------------------------------------------+\n",
            "|contributors|coordinates                          |created_at                    |display_text_range|entities                                                                                                                                                                                                                                                                                                                                                                                                                                                                                                                                  |extended_entities                                                                                                                                                                                                                                                                                                                                                                                                                                                                                                                                                                                                                                                                                                                                                                                                                                                                                                                                                                                                                                                                                                                                                                                                                                                                                                                                                                                                                                                                                                                                                     |extended_tweet|favorite_count|favorited|filter_level|geo                                  |id                |id_str            |in_reply_to_screen_name|in_reply_to_status_id|in_reply_to_status_id_str|in_reply_to_user_id|in_reply_to_user_id_str|is_quote_status|lang|limit                  |place                                                                                                                                                                                                                                                                                 |possibly_sensitive|quoted_status                                                                                                                                                                                                                                                                                                                                                                                                                                                                                                                                                                                                                                                                                                                                                                                                                                                                                                                                                                                                                                                                                                                                |quoted_status_id  |quoted_status_id_str|retweet_count|retweeted|source                                                                              |text                                                                                                                                                                               |timestamp_ms |truncated|user                                                                                                                                                                                                                                                                                                                                                                                                                                                                                                                                                                                                                                                                                                                                                                                                                                                                                                                                                                                                                     |\n",
            "+------------+-------------------------------------+------------------------------+------------------+------------------------------------------------------------------------------------------------------------------------------------------------------------------------------------------------------------------------------------------------------------------------------------------------------------------------------------------------------------------------------------------------------------------------------------------------------------------------------------------------------------------------------------------+----------------------------------------------------------------------------------------------------------------------------------------------------------------------------------------------------------------------------------------------------------------------------------------------------------------------------------------------------------------------------------------------------------------------------------------------------------------------------------------------------------------------------------------------------------------------------------------------------------------------------------------------------------------------------------------------------------------------------------------------------------------------------------------------------------------------------------------------------------------------------------------------------------------------------------------------------------------------------------------------------------------------------------------------------------------------------------------------------------------------------------------------------------------------------------------------------------------------------------------------------------------------------------------------------------------------------------------------------------------------------------------------------------------------------------------------------------------------------------------------------------------------------------------------------------------------+--------------+--------------+---------+------------+-------------------------------------+------------------+------------------+-----------------------+---------------------+-------------------------+-------------------+-----------------------+---------------+----+-----------------------+--------------------------------------------------------------------------------------------------------------------------------------------------------------------------------------------------------------------------------------------------------------------------------------+------------------+---------------------------------------------------------------------------------------------------------------------------------------------------------------------------------------------------------------------------------------------------------------------------------------------------------------------------------------------------------------------------------------------------------------------------------------------------------------------------------------------------------------------------------------------------------------------------------------------------------------------------------------------------------------------------------------------------------------------------------------------------------------------------------------------------------------------------------------------------------------------------------------------------------------------------------------------------------------------------------------------------------------------------------------------------------------------------------------------------------------------------------------------+------------------+--------------------+-------------+---------+------------------------------------------------------------------------------------+-----------------------------------------------------------------------------------------------------------------------------------------------------------------------------------+-------------+---------+-------------------------------------------------------------------------------------------------------------------------------------------------------------------------------------------------------------------------------------------------------------------------------------------------------------------------------------------------------------------------------------------------------------------------------------------------------------------------------------------------------------------------------------------------------------------------------------------------------------------------------------------------------------------------------------------------------------------------------------------------------------------------------------------------------------------------------------------------------------------------------------------------------------------------------------------------------------------------------------------------------------------------+\n",
            "|NULL        |NULL                                 |Sat Jul 22 09:02:53 +0000 2017|[31, 97]          |{[], NULL, [], [], [{548470963, 548470963, [0, 14], AMANDA MULLEN, AmandaMullen3}, {3121863717, 3121863717, [15, 30], Scott Ablaze Clarke, scottclarke948}]}                                                                                                                                                                                                                                                                                                                                                                              |NULL                                                                                                                                                                                                                                                                                                                                                                                                                                                                                                                                                                                                                                                                                                                                                                                                                                                                                                                                                                                                                                                                                                                                                                                                                                                                                                                                                                                                                                                                                                                                                                  |NULL          |0             |false    |low         |NULL                                 |888685771020009472|888685771020009472|AmandaMullen3          |888680020197199876   |888680020197199876       |548470963          |548470963              |false          |en  |NULL                   |{{[[[-2.319934, 53.343623], [-2.319934, 53.570282], [-2.147026, 53.570282], [-2.147026, 53.343623]]], Polygon}, United Kingdom, GB, Manchester, England, 315b740b108481f6, Manchester, city, https://api.twitter.com/1.1/geo/id/315b740b108481f6.json}                                |NULL              |NULL                                                                                                                                                                                                                                                                                                                                                                                                                                                                                                                                                                                                                                                                                                                                                                                                                                                                                                                                                                                                                                                                                                                                         |NULL              |NULL                |0            |false    |<a href=\"http://twitter.com/download/android\" rel=\"nofollow\">Twitter for Android</a>|@AmandaMullen3 @scottclarke948 Nothing but nothing beats feeling proud ❤❤ I'm made up for you all                                                                                  |1500714173451|false    |{false, Tue May 15 17:09:35 +0000 2012, true, false, love my MCFC wife & kids & grandsons more than anything .. vinny an zabba kings of mcfc . unfollow me il block !! none of the following unfollowing shit, 55096, NULL, 4574, NULL, 4066, true, 581151219, 581151219, false, en, 44, wythenshawe Manchester , I AM GRANDAD, NULL, C0DEED, http://abs.twimg.com/images/themes/theme1/bg.png, https://abs.twimg.com/images/themes/theme1/bg.png, false, https://pbs.twimg.com/profile_banners/581151219/1498236811, http://pbs.twimg.com/profile_images/878294455777976321/o1-rx0VB_normal.jpg, https://pbs.twimg.com/profile_images/878294455777976321/o1-rx0VB_normal.jpg, 1DA1F2, C0DEED, DDEEF6, 333333, true, false, gregson9, 102883, NULL, NULL, NULL, false}                                                                                                                                                                                                                                                   |\n",
            "|NULL        |{[129.493744, 28.377247], Point}     |Sat Jul 22 09:02:53 +0000 2017|NULL              |{[{[16, 21], 天気c4}], NULL, [], [], []}                                                                                                                                                                                                                                                                                                                                                                                                                                                                                                  |NULL                                                                                                                                                                                                                                                                                                                                                                                                                                                                                                                                                                                                                                                                                                                                                                                                                                                                                                                                                                                                                                                                                                                                                                                                                                                                                                                                                                                                                                                                                                                                                                  |NULL          |0             |false    |low         |{[28.377247, 129.493744], Point}     |888685771208613889|888685771208613889|NULL                   |NULL                 |NULL                     |NULL               |NULL                   |false          |ja  |NULL                   |{{[[[129.343186, 28.193773], [129.343186, 28.530739], [129.722484, 28.530739], [129.722484, 28.193773]]], Polygon}, 日本, JP, 鹿児 奄美市, 0e98c298cdbd6cf1, 奄美市, city, https://api.twitter.com/1.1/geo/id/0e98c298cdbd6cf1.json}                                                  |NULL              |NULL                                                                                                                                                                                                                                                                                                                                                                                                                                                                                                                                                                                                                                                                                                                                                                                                                                                                                                                                                                                                                                                                                                                                         |NULL              |NULL                |0            |false    |<a href=\"http://www.softel.co.jp/labs/\" rel=\"nofollow\">tenki</a>                    |日()  最高 最低 降水確率 #天気c4                                                                                                                                                   |1500714173496|false    |{false, Sun Jul 07 10:16:45 +0000 2013, true, false, 天気予報を配信します。1日3,4回つぶやくので、リストに入れるのもオススメです。, 0, NULL, 24, NULL, 0, true, 1574803764, 1574803764, false, ja, 6, 鹿児島県 奄美地方（名瀬）, 鹿児島県 奄美地方の天気予報, NULL, C0DEED, http://abs.twimg.com/images/themes/theme1/bg.png, https://abs.twimg.com/images/themes/theme1/bg.png, false, NULL, http://pbs.twimg.com/profile_images/378800000102901425/9c0910bc6342c4aa41645d67c92cba02_normal.png, https://pbs.twimg.com/profile_images/378800000102901425/9c0910bc6342c4aa41645d67c92cba02_normal.png, 1DA1F2, C0DEED, DDEEF6, 333333, true, false, amami_tenki, 21696, Tokyo, http://www.softel.co.jp/labs/, 32400, false}                                                                                                                                                                                                                                                                                               |\n",
            "|NULL        |{[-66.8983, 10.496], Point}          |Sat Jul 22 09:02:53 +0000 2017|[17, 101]         |{[{[34, 41], Receta}, {[94, 101], trndnl}], NULL, [], [], [{169976372, 169976372, [0, 16], Maniceria San Jorge, ManiceriaSJorge}]}                                                                                                                                                                                                                                                                                                                                                                                                        |NULL                                                                                                                                                                                                                                                                                                                                                                                                                                                                                                                                                                                                                                                                                                                                                                                                                                                                                                                                                                                                                                                                                                                                                                                                                                                                                                                                                                                                                                                                                                                                                                  |NULL          |0             |false    |low         |{[10.496, -66.8983], Point}          |888685771602878465|888685771602878465|ManiceriaSJorge        |884174072954966016   |884174072954966016       |169976372          |169976372              |false          |es  |NULL                   |{{[[[-66.998581, 10.440464], [-66.998581, 10.526614], [-66.862707, 10.526614], [-66.862707, 10.440464]]], Polygon}, Venezuela, VE, Caracas, Venezuela, 00ec4c32070f5076, Caracas, city, https://api.twitter.com/1.1/geo/id/00ec4c32070f5076.json}                                     |NULL              |NULL                                                                                                                                                                                                                                                                                                                                                                                                                                                                                                                                                                                                                                                                                                                                                                                                                                                                                                                                                                                                                                                                                                                                         |NULL              |NULL                |0            |false    |<a href=\"http://laconversa.com\" rel=\"nofollow\">Es Tendencia en Venezuela</a>        |@ManiceriaSJorge la 1ª mención de #Receta aparece en tu TL. ¡Ahora es Tendencia en Venezuela! #trndnl                                                                              |1500714173590|false    |{false, Sat Dec 06 04:03:45 +0000 2008, true, false, Información sobre los Temas del Momento de la geografía venezolana #TrendingTopics — #trndnl, 18, NULL, 56975, NULL, 48, true, 17916058, 17916058, false, es, 496, Venezuela, Trendinalia VE, NULL, C0DEED, http://abs.twimg.com/images/themes/theme1/bg.png, https://abs.twimg.com/images/themes/theme1/bg.png, false, https://pbs.twimg.com/profile_banners/17916058/1455017000, http://pbs.twimg.com/profile_images/697018135312863233/sbwt0m_Z_normal.png, https://pbs.twimg.com/profile_images/697018135312863233/sbwt0m_Z_normal.png, 1DA1F2, C0DEED, DDEEF6, 333333, true, false, trendinaliaVE, 476982, Caracas, http://trendinalia.com/twitter-trending-topics/venezuela/, -14400, true}                                                                                                                                                                                                                                                                   |\n",
            "|NULL        |NULL                                 |Sat Jul 22 09:02:52 +0000 2017|[0, 81]           |{[], [{pic.twitter.com/p4vo8rnoJo, https://twitter.com/JOEJau1/status/888685767148544001/photo/1, 888685729705893889, 888685729705893889, [82, 105], http://pbs.twimg.com/media/DFU-9nQUIAEjWvg.jpg, https://pbs.twimg.com/media/DFU-9nQUIAEjWvg.jpg, {{1484, fit, 2048}, {870, fit, 1200}, {493, fit, 680}, {150, crop, 150}}, NULL, NULL, NULL, NULL, photo, https://t.co/p4vo8rnoJo}], [], [], []}                                                                                                                                     |{[{pic.twitter.com/p4vo8rnoJo, https://twitter.com/JOEJau1/status/888685767148544001/photo/1, 888685729705893889, 888685729705893889, [82, 105], http://pbs.twimg.com/media/DFU-9nQUIAEjWvg.jpg, https://pbs.twimg.com/media/DFU-9nQUIAEjWvg.jpg, {{1484, fit, 2048}, {870, fit, 1200}, {493, fit, 680}, {150, crop, 150}}, NULL, NULL, NULL, NULL, photo, https://t.co/p4vo8rnoJo, NULL}, {pic.twitter.com/p4vo8rnoJo, https://twitter.com/JOEJau1/status/888685767148544001/photo/1, 888685732147077120, 888685732147077120, [82, 105], http://pbs.twimg.com/media/DFU-9wWVoAAGGhV.jpg, https://pbs.twimg.com/media/DFU-9wWVoAAGGhV.jpg, {{1536, fit, 2048}, {900, fit, 1200}, {510, fit, 680}, {150, crop, 150}}, NULL, NULL, NULL, NULL, photo, https://t.co/p4vo8rnoJo, NULL}, {pic.twitter.com/p4vo8rnoJo, https://twitter.com/JOEJau1/status/888685767148544001/photo/1, 888685732075716608, 888685732075716608, [82, 105], http://pbs.twimg.com/media/DFU-9wFUwAA4ocO.jpg, https://pbs.twimg.com/media/DFU-9wFUwAA4ocO.jpg, {{2048, fit, 1536}, {1200, fit, 900}, {680, fit, 510}, {150, crop, 150}}, NULL, NULL, NULL, NULL, photo, https://t.co/p4vo8rnoJo, NULL}, {pic.twitter.com/p4vo8rnoJo, https://twitter.com/JOEJau1/status/888685767148544001/photo/1, 888685731937374209, 888685731937374209, [82, 105], http://pbs.twimg.com/media/DFU-9vkV0AEHKA5.jpg, https://pbs.twimg.com/media/DFU-9vkV0AEHKA5.jpg, {{2048, fit, 1536}, {1200, fit, 900}, {680, fit, 510}, {150, crop, 150}}, NULL, NULL, NULL, NULL, photo, https://t.co/p4vo8rnoJo, NULL}]}|NULL          |0             |false    |low         |NULL                                 |888685767148544001|888685767148544001|NULL                   |NULL                 |NULL                     |NULL               |NULL                   |false          |zh  |NULL                   |{{[[[109.664659, 20.221264], [109.664659, 25.518608], [117.17479, 25.518608], [117.17479, 20.221264]]], Polygon}, People's Republic of China, CN, Guangdong, People's Republic of China, 00059b04495a7e37, Guangdong, admin, https://api.twitter.com/1.1/geo/id/00059b04495a7e37.json}|false             |NULL                                                                                                                                                                                                                                                                                                                                                                                                                                                                                                                                                                                                                                                                                                                                                                                                                                                                                                                                                                                                                                                                                                                                         |NULL              |NULL                |0            |false    |<a href=\"http://twitter.com/download/iphone\" rel=\"nofollow\">Twitter for iPhone</a>  |騎車去海邊的一個午後，天氣很好但也很累，好險用的是摩拜，騎到一半直接坐公交回家了。在海邊遠眺了香港大嶼山和港珠澳大橋，吹了一下海風，感受了一下陽光。(´･_･`) https://t.co/p4vo8rnoJo|1500714172528|false    |{false, Sat Apr 22 04:26:42 +0000 2017, true, false, 愛鋼筆(萬年筆)，愛生活，愛美食，愛腿 不愛噴子, 21, NULL, 5, NULL, 23, true, 855638970025132032, 855638970025132032, false, en, 1, Macao澳門↔️ZhuHai珠海, JOE jau, NULL, F5F8FA, , , false, https://pbs.twimg.com/profile_banners/855638970025132032/1500283871, http://pbs.twimg.com/profile_images/886497940121853952/bZp7DiLj_normal.jpg, https://pbs.twimg.com/profile_images/886497940121853952/bZp7DiLj_normal.jpg, 1DA1F2, C0DEED, DDEEF6, 333333, true, false, JOEJau1, 36, NULL, NULL, NULL, false}                                                                                                                                                                                                                                                                                                                                                                                                                                                         |\n",
            "|NULL        |NULL                                 |Sat Jul 22 09:02:53 +0000 2017|[9, 10]           |{[], [{pic.twitter.com/JKrtUYGcY9, https://twitter.com/zaki_pinklizard/status/888685770881368069/photo/1, 888685767836393472, 888685767836393472, [11, 34], http://pbs.twimg.com/media/DFU-_1TVYAAkiY3.jpg, https://pbs.twimg.com/media/DFU-_1TVYAAkiY3.jpg, {{450, fit, 600}, {450, fit, 600}, {450, fit, 600}, {150, crop, 150}}, NULL, NULL, NULL, NULL, photo, https://t.co/JKrtUYGcY9}], [], [], [{2553401701, 2553401701, [0, 8], あんざいさん@ラフムと化した先輩, StuK_40}]}                                                       |{[{pic.twitter.com/JKrtUYGcY9, https://twitter.com/zaki_pinklizard/status/888685770881368069/photo/1, 888685767836393472, 888685767836393472, [11, 34], http://pbs.twimg.com/media/DFU-_1TVYAAkiY3.jpg, https://pbs.twimg.com/media/DFU-_1TVYAAkiY3.jpg, {{450, fit, 600}, {450, fit, 600}, {450, fit, 600}, {150, crop, 150}}, NULL, NULL, NULL, NULL, photo, https://t.co/JKrtUYGcY9, NULL}]}                                                                                                                                                                                                                                                                                                                                                                                                                                                                                                                                                                                                                                                                                                                                                                                                                                                                                                                                                                                                                                                                                                                                                                       |NULL          |0             |false    |low         |NULL                                 |888685770881368069|888685770881368069|StuK_40                |888681710417661952   |888681710417661952       |2553401701         |2553401701             |false          |ja  |NULL                   |{{[[[139.673228, 35.673404], [139.673228, 35.72991], [139.745133, 35.72991], [139.745133, 35.673404]]], Polygon}, 日本, JP, 東京 新宿区, 7ee61f505fdfdf5c, 新宿区, city, https://api.twitter.com/1.1/geo/id/7ee61f505fdfdf5c.json}                                                    |false             |NULL                                                                                                                                                                                                                                                                                                                                                                                                                                                                                                                                                                                                                                                                                                                                                                                                                                                                                                                                                                                                                                                                                                                                         |NULL              |NULL                |0            |false    |<a href=\"http://twitter.com/download/android\" rel=\"nofollow\">Twitter for Android</a>|@StuK_40 ぐ https://t.co/JKrtUYGcY9                                                                                                                                                |1500714173418|false    |{false, Tue Jan 26 13:09:56 +0000 2010, false, false, みったんが出演するというので観たガルパンの影響で大洗という町に胃袋を掴まれてます。\\n\\n富\\n岡\\n氷\\n生\\n高\\n小\\n狩\\n橘\\n徳\\n中\\n\\n#好きな声優当てるまで帰れま10\\n\\n\\n現所属\\nさざなみ会、さくら兵団、ぱよまかせ、ひろみたち、ちさくらぶ、偽公平一味、天地無用！ML、富沢美智恵ML、百人町某所チームサタデー、等々, 27100, NULL, 538, NULL, 1537, true, 108600121, 108600121, false, ja, 25, 平日長野県、休日大洗。, ぴんくりざあど＠なのは舞台挨拶１＆２回目, NULL, 000000, http://pbs.twimg.com/profile_background_images/692267043031248897/mluHloFc.jpg, https://pbs.twimg.com/profile_background_images/692267043031248897/mluHloFc.jpg, true, https://pbs.twimg.com/profile_banners/108600121/1455126172, http://pbs.twimg.com/profile_images/673247847941214208/0UD2xqNd_normal.jpg, https://pbs.twimg.com/profile_images/673247847941214208/0UD2xqNd_normal.jpg, 0084B4, FFFFFF, DDEEF6, 333333, true, false, zaki_pinklizard, 69305, Tokyo, NULL, 32400, false}|\n",
            "|NULL        |NULL                                 |Sat Jul 22 09:02:53 +0000 2017|[0, 14]           |{[], [{pic.twitter.com/MXNoNylWbe, https://twitter.com/Lisa_Oscar/status/888685769400791041/photo/1, 888685737473753089, 888685737473753089, [15, 38], http://pbs.twimg.com/media/DFU--EMUQAEPani.jpg, https://pbs.twimg.com/media/DFU--EMUQAEPani.jpg, {{1152, fit, 2048}, {675, fit, 1200}, {383, fit, 680}, {150, crop, 150}}, NULL, NULL, NULL, NULL, photo, https://t.co/MXNoNylWbe}], [], [], []}                                                                                                                                   |{[{pic.twitter.com/MXNoNylWbe, https://twitter.com/Lisa_Oscar/status/888685769400791041/photo/1, 888685737473753089, 888685737473753089, [15, 38], http://pbs.twimg.com/media/DFU--EMUQAEPani.jpg, https://pbs.twimg.com/media/DFU--EMUQAEPani.jpg, {{1152, fit, 2048}, {675, fit, 1200}, {383, fit, 680}, {150, crop, 150}}, NULL, NULL, NULL, NULL, photo, https://t.co/MXNoNylWbe, NULL}]}                                                                                                                                                                                                                                                                                                                                                                                                                                                                                                                                                                                                                                                                                                                                                                                                                                                                                                                                                                                                                                                                                                                                                                         |NULL          |0             |false    |low         |NULL                                 |888685769400791041|888685769400791041|NULL                   |NULL                 |NULL                     |NULL               |NULL                   |false          |ja  |NULL                   |{{[[[139.716598, 35.67375], [139.716598, 35.67375], [139.716598, 35.67375], [139.716598, 35.67375]]], Polygon}, 日本, JP, 明治神宮野球場, 09efc0d2d956f001, 明治神宮野球場, poi, https://api.twitter.com/1.1/geo/id/09efc0d2d956f001.json}                                            |false             |NULL                                                                                                                                                                                                                                                                                                                                                                                                                                                                                                                                                                                                                                                                                                                                                                                                                                                                                                                                                                                                                                                                                                                                         |NULL              |NULL                |0            |false    |<a href=\"http://twitter.com/download/android\" rel=\"nofollow\">Twitter for Android</a>|今日もここから！(ﾟ∀ﾟ)ﾉ https://t.co/MXNoNylWbe                                                                                                                                     |1500714173065|false    |{false, Tue Aug 31 14:54:09 +0000 2010, false, false, リサヲ取扱説明書→ http://twpf.jp/Lisa_Oscar 虎と猫をこよなく愛するオバハン。上本博紀#00 元バンギャ(オバンギャ)なのでたまーにそっち関係もつぶやきます。, 439, NULL, 49, NULL, 141, true, 185243797, 185243797, false, ja, 0, ハマスタ・東京D・神宮ときどき甲子園, リサヲ。, NULL, 0099B9, http://pbs.twimg.com/profile_background_images/378800000063522069/a2d6bb9a3a4a358f05fe4931ac278279.jpeg, https://pbs.twimg.com/profile_background_images/378800000063522069/a2d6bb9a3a4a358f05fe4931ac278279.jpeg, false, https://pbs.twimg.com/profile_banners/185243797/1434864477, http://pbs.twimg.com/profile_images/879674473376399361/ZPJMjZqM_normal.jpg, https://pbs.twimg.com/profile_images/879674473376399361/ZPJMjZqM_normal.jpg, 0099B9, FFFFFF, 95E8EC, 3C3940, true, false, Lisa_Oscar, 5367, Tokyo, http://twpf.jp/Lisa_Oscar, 32400, false}                                                                                                             |\n",
            "|NULL        |NULL                                 |Sat Jul 22 09:02:53 +0000 2017|NULL              |{[], NULL, [], [], [{3219132979, 3219132979, [0, 9], RailMin India, min_rail}]}                                                                                                                                                                                                                                                                                                                                                                                                                                                           |NULL                                                                                                                                                                                                                                                                                                                                                                                                                                                                                                                                                                                                                                                                                                                                                                                                                                                                                                                                                                                                                                                                                                                                                                                                                                                                                                                                                                                                                                                                                                                                                                  |NULL          |0             |false    |low         |NULL                                 |888685771745636353|888685771745636353|min_rail               |NULL                 |NULL                     |3219132979         |3219132979             |false          |in  |NULL                   |{{[[[72.64293, 15.606794], [72.64293, 22.029028], [80.899558, 22.029028], [80.899558, 15.606794]]], Polygon}, India, IN, Maharashtra, India, 4c6bf2b7c14c8f88, Maharashtra, admin, https://api.twitter.com/1.1/geo/id/4c6bf2b7c14c8f88.json}                                          |NULL              |NULL                                                                                                                                                                                                                                                                                                                                                                                                                                                                                                                                                                                                                                                                                                                                                                                                                                                                                                                                                                                                                                                                                                                                         |NULL              |NULL                |0            |false    |<a href=\"http://twitter.com/download/android\" rel=\"nofollow\">Twitter for Android</a>|@min_rail PNR no.6602666380. No soap in the toilet in IIA in 11040 Maharashtra exp.to Kolhapur                                                                                     |1500714173624|false    |{false, Tue Feb 23 11:52:04 +0000 2010, true, false, NULL, 0, NULL, 10, NULL, 34, true, 116727021, 116727021, false, en, 0, Pune, Prasad Jog, NULL, C0DEED, http://abs.twimg.com/images/themes/theme1/bg.png, https://abs.twimg.com/images/themes/theme1/bg.png, false, NULL, http://abs.twimg.com/sticky/default_profile_images/default_profile_normal.png, https://abs.twimg.com/sticky/default_profile_images/default_profile_normal.png, 1DA1F2, C0DEED, DDEEF6, 333333, true, false, jogprasad, 32, NULL, NULL, NULL, false}                                                                                                                                                                                                                                                                                                                                                                                                                                                                                        |\n",
            "|NULL        |NULL                                 |Sat Jul 22 09:02:53 +0000 2017|[0, 35]           |{[], NULL, [], [{twitter.com/Maelinho38/sta…, https://twitter.com/Maelinho38/status/734121405193805825, [36, 59], https://t.co/hKhNvHr1Ue}], []}                                                                                                                                                                                                                                                                                                                                                                                          |NULL                                                                                                                                                                                                                                                                                                                                                                                                                                                                                                                                                                                                                                                                                                                                                                                                                                                                                                                                                                                                                                                                                                                                                                                                                                                                                                                                                                                                                                                                                                                                                                  |NULL          |0             |false    |low         |NULL                                 |888685771863068673|888685771863068673|NULL                   |NULL                 |NULL                     |NULL               |NULL                   |true           |fr  |NULL                   |{{[[[-5.141593, 41.364659], [-5.141593, 51.088771], [9.559831, 51.088771], [9.559831, 41.364659]]], Polygon}, France, FR, France, f3bfc7dcc928977f, France, country, https://api.twitter.com/1.1/geo/id/f3bfc7dcc928977f.json}                                                        |false             |{NULL, NULL, Sat May 21 20:39:16 +0000 2016, NULL, {[], NULL, [], [], []}, NULL, NULL, 6, false, low, NULL, 734121405193805825, 734121405193805825, NULL, NULL, NULL, NULL, NULL, false, fr, NULL, NULL, NULL, NULL, 22, false, NULL, <a href=\"http://twitter.com/download/iphone\" rel=\"nofollow\">Twitter for iPhone</a>, Oh mais Mendy c'est le pire défenseur gauche en France sérieux, false, {false, Fri Jan 17 18:22:50 +0000 2014, true, false, Fou de foot et de l'OL ! Étudiant à mes heures perdus. #TeamOL #TeamLyon #ASAB #VSL, 1791, NULL, 240, NULL, 506, true, 2296569073, 2296569073, false, fr, 7, NULL, Maelinho, NULL, C0DEED, http://abs.twimg.com/images/themes/theme1/bg.png, https://abs.twimg.com/images/themes/theme1/bg.png, false, https://pbs.twimg.com/profile_banners/2296569073/1496317578, http://pbs.twimg.com/profile_images/800294732853374981/abY86AV4_normal.jpg, https://pbs.twimg.com/profile_images/800294732853374981/abY86AV4_normal.jpg, 1DA1F2, C0DEED, DDEEF6, 333333, true, false, Maelinho38, 8284, NULL, NULL, NULL, false}, NULL}                                                            |734121405193805825|734121405193805825  |0            |false    |<a href=\"http://twitter.com/download/android\" rel=\"nofollow\">Twitter for Android</a>|Écoutons le Gones sans culture foot https://t.co/hKhNvHr1Ue                                                                                                                        |1500714173652|false    |{false, Sat Jul 12 17:03:23 +0000 2014, false, false, Membre de la #TeamRaleur \\n#FCB, 52569, NULL, 2365, NULL, 725, true, 2703895949, 2703895949, false, fr, 23, NULL, Vicente, NULL, 000000, http://abs.twimg.com/images/themes/theme1/bg.png, https://abs.twimg.com/images/themes/theme1/bg.png, false, https://pbs.twimg.com/profile_banners/2703895949/1498959836, http://pbs.twimg.com/profile_images/887446270171852801/z05UeS0K_normal.jpg, https://pbs.twimg.com/profile_images/887446270171852801/z05UeS0K_normal.jpg, ABB8C2, 000000, 000000, 000000, false, false, ElGuaje1899, 77445, NULL, NULL, NULL, false}                                                                                                                                                                                                                                                                                                                                                                                              |\n",
            "|NULL        |NULL                                 |Sat Jul 22 09:02:53 +0000 2017|NULL              |{[], [{pic.twitter.com/tonnl1jXmJ, https://twitter.com/gamefieldES/status/886721690092404737/photo/1, 886721667208237056, 886721667208237056, [90, 113], http://pbs.twimg.com/media/DE5EqISW0AAMjg0.jpg, https://pbs.twimg.com/media/DE5EqISW0AAMjg0.jpg, {{900, fit, 1676}, {644, fit, 1200}, {365, fit, 680}, {150, crop, 150}}, 886721690092404737, 886721690092404737, 828647104058900480, 828647104058900480, photo, https://t.co/tonnl1jXmJ}], [], [{bit.ly/2thitji, http://bit.ly/2thitji, [66, 89], https://t.co/98j9H592BI}], []}|{[{pic.twitter.com/tonnl1jXmJ, https://twitter.com/gamefieldES/status/886721690092404737/photo/1, 886721667208237056, 886721667208237056, [90, 113], http://pbs.twimg.com/media/DE5EqISW0AAMjg0.jpg, https://pbs.twimg.com/media/DE5EqISW0AAMjg0.jpg, {{900, fit, 1676}, {644, fit, 1200}, {365, fit, 680}, {150, crop, 150}}, 886721690092404737, 886721690092404737, 828647104058900480, 828647104058900480, photo, https://t.co/tonnl1jXmJ, NULL}]}                                                                                                                                                                                                                                                                                                                                                                                                                                                                                                                                                                                                                                                                                                                                                                                                                                                                                                                                                                                                                                                                                                                |NULL          |0             |false    |low         |NULL                                 |888685772219576320|888685772219576320|NULL                   |NULL                 |NULL                     |NULL               |NULL                   |false          |es  |NULL                   |{{[[[-0.782491, 38.127787], [-0.782491, 38.344645], [-0.510153, 38.344645], [-0.510153, 38.127787]]], Polygon}, España, ES, Elche, España, 3178a2f5b3c63ea4, Elche, city, https://api.twitter.com/1.1/geo/id/3178a2f5b3c63ea4.json}                                                   |false             |NULL                                                                                                                                                                                                                                                                                                                                                                                                                                                                                                                                                                                                                                                                                                                                                                                                                                                                                                                                                                                                                                                                                                                                         |NULL              |NULL                |0            |false    |<a href=\"http://twitter.com/download/android\" rel=\"nofollow\">Twitter for Android</a>|Mañana TORNEO Apúntate y gana una tarjeta de 15 para tus gemas. \\n🖌https://t.co/98j9H592BI https://t.co/tonnl1jXmJ                                                                |1500714173737|false    |{false, Mon Feb 06 16:50:39 +0000 2017, false, false, Bienvenidos al twitter oficial de Gamefield, la plataforma de eSports definitiva. Asistencia @gamefieldAssist, 709, NULL, 1358, NULL, 44, true, 828647104058900480, 828647104058900480, false, es, 2, Madrid, Comunidad de Madrid, Gamefield, NULL, 000000, http://abs.twimg.com/images/themes/theme1/bg.png, https://abs.twimg.com/images/themes/theme1/bg.png, false, https://pbs.twimg.com/profile_banners/828647104058900480/1489592781, http://pbs.twimg.com/profile_images/837593734355234816/TD3GqYwd_normal.jpg, https://pbs.twimg.com/profile_images/837593734355234816/TD3GqYwd_normal.jpg, FF4C01, 000000, 000000, 000000, false, false, gamefieldES, 822, Madrid, https://gamefield.es, 7200, false}                                                                                                                                                                                                                                                   |\n",
            "|NULL        |NULL                                 |Sat Jul 22 09:02:53 +0000 2017|[0, 91]           |{[], NULL, [], [{twitter.com/xba6h/status/8…, https://twitter.com/xba6h/status/888654361622175744, [92, 115], https://t.co/ytn9e2Hovo}], []}                                                                                                                                                                                                                                                                                                                                                                                              |NULL                                                                                                                                                                                                                                                                                                                                                                                                                                                                                                                                                                                                                                                                                                                                                                                                                                                                                                                                                                                                                                                                                                                                                                                                                                                                                                                                                                                                                                                                                                                                                                  |NULL          |0             |false    |low         |NULL                                 |888685771846189056|888685771846189056|NULL                   |NULL                 |NULL                     |NULL               |NULL                   |true           |ar  |NULL                   |{{[[[41.815344, 12.106866], [41.815344, 18.998648], [54.534186, 18.998648], [54.534186, 12.106866]]], Polygon}, Yemen, YE, Yemen, e5ac80d8b565c01f, Yemen, country, https://api.twitter.com/1.1/geo/id/e5ac80d8b565c01f.json}                                                         |false             |{NULL, NULL, Sat Jul 22 06:58:04 +0000 2017, [17, 35], {[], NULL, [], [], [{4808397335, 4808397335, [0, 16], Ꮋ.Ꭺ⚜️, hatoonalhashedi}]}, NULL, NULL, 1, false, low, NULL, 888654361622175744, 888654361622175744, hatoonalhashedi, 888614367658483712, 888614367658483712, 4808397335, 4808397335, false, ar, NULL, NULL, NULL, NULL, 0, false, NULL, <a href=\"http://twitter.com/download/iphone\" rel=\"nofollow\">Twitter for iPhone</a>, @hatoonalhashedi طول عمرك فاصله😂😂😂💙, false, {false, Thu Oct 01 13:05:33 +0000 2015, true, false, A human | love&peace❤️, 1199, NULL, 111, NULL, 44, true, 3748026372, 3748026372, false, en, 0, NULL, 𓅓¹⁸., NULL, C0DEED, http://abs.twimg.com/images/themes/theme1/bg.png, https://abs.twimg.com/images/themes/theme1/bg.png, false, https://pbs.twimg.com/profile_banners/3748026372/1500099681, http://pbs.twimg.com/profile_images/883649113920876544/-Fg2gARW_normal.jpg, https://pbs.twimg.com/profile_images/883649113920876544/-Fg2gARW_normal.jpg, 1DA1F2, C0DEED, DDEEF6, 333333, true, false, xba6h, 2868, Pacific Time (US & Canada), http://sayat.me/the01a, -25200, false}, NULL}|888654361622175744|888654361622175744  |0            |false    |<a href=\"http://twitter.com/download/iphone\" rel=\"nofollow\">Twitter for iPhone</a>  |لانك على قولة أهل السعوووديه  انتي كذاا حجه مرررررررررررررررره جميييله 🎶🎶🎶🎶🎶🎶🎶😂😂😂😂😂😂😂💚💚💚💚💚💚 https://t.co/ytn9e2Hovo                                            |1500714173648|false    |{false, Thu Jan 14 22:52:44 +0000 2016, true, false, اللَّهُمَّ بشّرني بِما أنتظرهُ مِنكَ وانتَ خيرُ المُبشرين ||., 1966, NULL, 122, NULL, 133, true, 4808397335, 4808397335, false, en-GB, 0, اْلـلـواءَ الأخـضـر💚🇾🇪, Ꮋ.Ꭺ⚜️, NULL, F5F8FA, , , false, https://pbs.twimg.com/profile_banners/4808397335/1498008603, http://pbs.twimg.com/profile_images/863744832753283072/8lbsQ3It_normal.jpg, https://pbs.twimg.com/profile_images/863744832753283072/8lbsQ3It_normal.jpg, 1DA1F2, C0DEED, DDEEF6, 333333, true, false, hatoonalhashedi, 1128, NULL, http://www.instagram.com/hatoonalhashedi, NULL, false}                                                                                                                                                                                                                                                                                                                                                                                                         |\n",
            "|NULL        |NULL                                 |Sat Jul 22 09:02:53 +0000 2017|NULL              |{[], NULL, [], [], [{39213681, 39213681, [124, 139], cengiz semercioglu, cengizsemercio}]}                                                                                                                                                                                                                                                                                                                                                                                                                                                |NULL                                                                                                                                                                                                                                                                                                                                                                                                                                                                                                                                                                                                                                                                                                                                                                                                                                                                                                                                                                                                                                                                                                                                                                                                                                                                                                                                                                                                                                                                                                                                                                  |NULL          |0             |false    |low         |NULL                                 |888685772227915777|888685772227915777|NULL                   |NULL                 |NULL                     |NULL               |NULL                   |false          |tr  |NULL                   |{{[[[25.668509, 35.808419], [25.668509, 42.104786], [44.817931, 42.104786], [44.817931, 35.808419]]], Polygon}, Türkiye, TR, Türkiye, 682c5a667856ef42, Türkiye, country, https://api.twitter.com/1.1/geo/id/682c5a667856ef42.json}                                                   |NULL              |NULL                                                                                                                                                                                                                                                                                                                                                                                                                                                                                                                                                                                                                                                                                                                                                                                                                                                                                                                                                                                                                                                                                                                                         |NULL              |NULL                |0            |false    |<a href=\"http://twitter.com/download/iphone\" rel=\"nofollow\">Twitter for iPhone</a>  |Cengiz Semercioğlu yazdığın o iğrenç yazıyla sevgili Eşref Kolçak'ı da bir hayli üzmüşsün. Gazetecilik bu değil!Biraz edep! @cengizsemercio                                        |1500714173739|false    |{false, Sat Jan 09 00:12:12 +0000 2010, false, false, Klasik Türk Edebiyatı MA/ İslam Felsefesi PhD/ Sinefil, 1704, NULL, 7422, NULL, 527, true, 103125991, 103125991, false, tr, 2, Türkiye, Mervecân Baykan, NULL, B712E0, http://pbs.twimg.com/profile_background_images/781063205/3d1fed2b058d1a69cc73e05d7476bcd0.jpeg, https://pbs.twimg.com/profile_background_images/781063205/3d1fed2b058d1a69cc73e05d7476bcd0.jpeg, true, https://pbs.twimg.com/profile_banners/103125991/1497445846, http://pbs.twimg.com/profile_images/885984628544241666/hubAytvz_normal.jpg, https://pbs.twimg.com/profile_images/885984628544241666/hubAytvz_normal.jpg, 9266CC, FFFFFF, 080708, 991FC2, true, false, teyakkuzdayim, 1133, Istanbul, NULL, 10800, false}                                                                                                                                                                                                                                                                 |\n",
            "|NULL        |NULL                                 |Sat Jul 22 09:02:53 +0000 2017|NULL              |{[], NULL, [], [], []}                                                                                                                                                                                                                                                                                                                                                                                                                                                                                                                    |NULL                                                                                                                                                                                                                                                                                                                                                                                                                                                                                                                                                                                                                                                                                                                                                                                                                                                                                                                                                                                                                                                                                                                                                                                                                                                                                                                                                                                                                                                                                                                                                                  |NULL          |0             |false    |low         |NULL                                 |888685772575883264|888685772575883264|NULL                   |NULL                 |NULL                     |NULL               |NULL                   |false          |tl  |NULL                   |{{[[[120.883855, 14.428229], [120.883855, 14.467822], [120.931151, 14.467822], [120.931151, 14.428229]]], Polygon}, Republic of the Philippines, PH, Kawit, Calabarzon, 010dfaa2304c677b, Kawit, city, https://api.twitter.com/1.1/geo/id/010dfaa2304c677b.json}                      |NULL              |NULL                                                                                                                                                                                                                                                                                                                                                                                                                                                                                                                                                                                                                                                                                                                                                                                                                                                                                                                                                                                                                                                                                                                                         |NULL              |NULL                |0            |false    |<a href=\"http://twitter.com/download/android\" rel=\"nofollow\">Twitter for Android</a>|tangina nagsidera kame,100%,tas kumanta lang ako your love saglet 52% agad pota parang siya lang hahahaha eme                                                                      |1500714173822|false    |{false, Wed Mar 25 03:17:27 +0000 2015, false, false, •E P H E M E R A L•, 3093, NULL, 127, NULL, 313, true, 3112814026, 3112814026, false, en, 0, arvey, mellifluous, NULL, 000000, http://abs.twimg.com/images/themes/theme1/bg.png, https://abs.twimg.com/images/themes/theme1/bg.png, false, https://pbs.twimg.com/profile_banners/3112814026/1500601734, http://pbs.twimg.com/profile_images/888206234305744896/3NpFmT9-_normal.jpg, https://pbs.twimg.com/profile_images/888206234305744896/3NpFmT9-_normal.jpg, F58EA8, 000000, 000000, 000000, false, false, EMLSzx, 3363, NULL, NULL, NULL, false}                                                                                                                                                                                                                                                                                                                                                                                                              |\n",
            "|NULL        |{[129.493744, 28.377247], Point}     |Sat Jul 22 09:02:53 +0000 2017|NULL              |{[{[16, 21], 天気c5}], NULL, [], [], []}                                                                                                                                                                                                                                                                                                                                                                                                                                                                                                  |NULL                                                                                                                                                                                                                                                                                                                                                                                                                                                                                                                                                                                                                                                                                                                                                                                                                                                                                                                                                                                                                                                                                                                                                                                                                                                                                                                                                                                                                                                                                                                                                                  |NULL          |0             |false    |low         |{[28.377247, 129.493744], Point}     |888685772701814784|888685772701814784|NULL                   |NULL                 |NULL                     |NULL               |NULL                   |false          |ja  |NULL                   |{{[[[129.343186, 28.193773], [129.343186, 28.530739], [129.722484, 28.530739], [129.722484, 28.193773]]], Polygon}, 日本, JP, 鹿児 奄美市, 0e98c298cdbd6cf1, 奄美市, city, https://api.twitter.com/1.1/geo/id/0e98c298cdbd6cf1.json}                                                  |NULL              |NULL                                                                                                                                                                                                                                                                                                                                                                                                                                                                                                                                                                                                                                                                                                                                                                                                                                                                                                                                                                                                                                                                                                                                         |NULL              |NULL                |0            |false    |<a href=\"http://www.softel.co.jp/labs/\" rel=\"nofollow\">tenki</a>                    |日()  最高 最低 降水確率 #天気c5                                                                                                                                                   |1500714173852|false    |{false, Sun Jul 07 10:16:45 +0000 2013, true, false, 天気予報を配信します。1日3,4回つぶやくので、リストに入れるのもオススメです。, 0, NULL, 24, NULL, 0, true, 1574803764, 1574803764, false, ja, 6, 鹿児島県 奄美地方（名瀬）, 鹿児島県 奄美地方の天気予報, NULL, C0DEED, http://abs.twimg.com/images/themes/theme1/bg.png, https://abs.twimg.com/images/themes/theme1/bg.png, false, NULL, http://pbs.twimg.com/profile_images/378800000102901425/9c0910bc6342c4aa41645d67c92cba02_normal.png, https://pbs.twimg.com/profile_images/378800000102901425/9c0910bc6342c4aa41645d67c92cba02_normal.png, 1DA1F2, C0DEED, DDEEF6, 333333, true, false, amami_tenki, 21697, Tokyo, http://www.softel.co.jp/labs/, 32400, false}                                                                                                                                                                                                                                                                                               |\n",
            "|NULL        |NULL                                 |Sat Jul 22 09:02:53 +0000 2017|[31, 93]          |{[], NULL, [], [], [{457054986, 457054986, [0, 16], Rockhampton CC, RockhamptonRams}, {456726840, 456726840, [17, 30], Slimbridge CC, SlimbridgeCC}]}                                                                                                                                                                                                                                                                                                                                                                                     |NULL                                                                                                                                                                                                                                                                                                                                                                                                                                                                                                                                                                                                                                                                                                                                                                                                                                                                                                                                                                                                                                                                                                                                                                                                                                                                                                                                                                                                                                                                                                                                                                  |NULL          |0             |false    |low         |NULL                                 |888685772441780224|888685772441780224|RockhamptonRams        |888389736662011904   |888389736662011904       |457054986          |457054986              |false          |en  |NULL                   |{{[[[-2.659936, 51.399367], [-2.659936, 51.516387], [-2.510844, 51.516387], [-2.510844, 51.399367]]], Polygon}, United Kingdom, GB, Bristol, England, 7f15dd80ac78ef40, Bristol, city, https://api.twitter.com/1.1/geo/id/7f15dd80ac78ef40.json}                                      |NULL              |NULL                                                                                                                                                                                                                                                                                                                                                                                                                                                                                                                                                                                                                                                                                                                                                                                                                                                                                                                                                                                                                                                                                                                                         |NULL              |NULL                |0            |false    |<a href=\"http://twitter.com/download/iphone\" rel=\"nofollow\">Twitter for iPhone</a>  |@RockhamptonRams @SlimbridgeCC Any chance of calling the game off early? No chance of playing                                                                                      |1500714173790|false    |{false, Tue Jul 07 14:03:24 +0000 2009, true, false, Welshman living in England. Skilled Sportsman, musical genius and just a genuine nice guy., 670, NULL, 357, NULL, 463, true, 54554473, 54554473, false, en, 3, Bristol, England, Jonathon Rees, NULL, C0DEED, http://abs.twimg.com/images/themes/theme1/bg.png, https://abs.twimg.com/images/themes/theme1/bg.png, false, https://pbs.twimg.com/profile_banners/54554473/1352814022, http://pbs.twimg.com/profile_images/822914210158022658/igBPBgV0_normal.jpg, https://pbs.twimg.com/profile_images/822914210158022658/igBPBgV0_normal.jpg, 1DA1F2, C0DEED, DDEEF6, 333333, true, false, Jonathon_Rees, 15302, London, NULL, 3600, false}                                                                                                                                                                                                                                                                                                                         |\n",
            "|NULL        |NULL                                 |NULL                          |NULL              |NULL                                                                                                                                                                                                                                                                                                                                                                                                                                                                                                                                      |NULL                                                                                                                                                                                                                                                                                                                                                                                                                                                                                                                                                                                                                                                                                                                                                                                                                                                                                                                                                                                                                                                                                                                                                                                                                                                                                                                                                                                                                                                                                                                                                                  |NULL          |NULL          |NULL     |NULL        |NULL                                 |NULL              |NULL              |NULL                   |NULL                 |NULL                     |NULL               |NULL                   |NULL           |NULL|{1500714174006, 874345}|NULL                                                                                                                                                                                                                                                                                  |NULL              |NULL                                                                                                                                                                                                                                                                                                                                                                                                                                                                                                                                                                                                                                                                                                                                                                                                                                                                                                                                                                                                                                                                                                                                         |NULL              |NULL                |NULL         |NULL     |NULL                                                                                |NULL                                                                                                                                                                               |NULL         |NULL     |NULL                                                                                                                                                                                                                                                                                                                                                                                                                                                                                                                                                                                                                                                                                                                                                                                                                                                                                                                                                                                                                     |\n",
            "|NULL        |{[149.69333333, -34.85916667], Point}|Sat Jul 22 09:02:53 +0000 2017|NULL              |{[], NULL, [], [], []}                                                                                                                                                                                                                                                                                                                                                                                                                                                                                                                    |NULL                                                                                                                                                                                                                                                                                                                                                                                                                                                                                                                                                                                                                                                                                                                                                                                                                                                                                                                                                                                                                                                                                                                                                                                                                                                                                                                                                                                                                                                                                                                                                                  |NULL          |0             |false    |low         |{[-34.85916667, 149.69333333], Point}|888685772659871744|888685772659871744|NULL                   |NULL                 |NULL                     |NULL               |NULL                   |false          |en  |NULL                   |{{[[[149.606253, -34.96324], [149.606253, -34.786698], [149.743039, -34.786698], [149.743039, -34.96324]]], Polygon}, Australia, AU, Tirrannaville, Goulburn, 4363c77c742d5ca2, Tirrannaville, neighborhood, https://api.twitter.com/1.1/geo/id/4363c77c742d5ca2.json}                |NULL              |NULL                                                                                                                                                                                                                                                                                                                                                                                                                                                                                                                                                                                                                                                                                                                                                                                                                                                                                                                                                                                                                                                                                                                                         |NULL              |NULL                |0            |false    |<a href=\"http://sandaysoft.com/\" rel=\"nofollow\">Sandaysoft Cumulus</a>              |Wind 14 km/h NNW. Barometer 1004.1 hPa, Falling slowly. Temperature 3.6 °C. Rain today 0.0mm. Humidity 64%                                                                         |1500714173842|false    |{false, Thu Jan 31 04:41:23 +0000 2013, true, false, NULL, 1, NULL, 13, NULL, 17, true, 1136032483, 1136032483, false, en, 7, Tirrannaville NSW, WarrandyteFmWX, NULL, C0DEED, http://abs.twimg.com/images/themes/theme1/bg.png, https://abs.twimg.com/images/themes/theme1/bg.png, false, NULL, http://pbs.twimg.com/profile_images/378800000482109994/947bfa4b33f6648a39c1ca02c3fbb3ce_normal.jpeg, https://pbs.twimg.com/profile_images/378800000482109994/947bfa4b33f6648a39c1ca02c3fbb3ce_normal.jpeg, 1DA1F2, C0DEED, DDEEF6, 333333, true, false, WarrandyteFmWx, 116245, NULL, http://www.warrandytefarm.com/weather/, NULL, false}                                                                                                                                                                                                                                                                                                                                                                              |\n",
            "|NULL        |NULL                                 |Sat Jul 22 09:02:53 +0000 2017|NULL              |{[], NULL, [], [{com-unik.info/2017/07/21/bri…, https://www.com-unik.info/2017/07/21/bright-horizons-family-solutions-inc-bfam-coo-mary-lou-burke-sells-1000-shares.html, [46, 69], https://t.co/e91R3vRTVC}], []}                                                                                                                                                                                                                                                                                                                        |NULL                                                                                                                                                                                                                                                                                                                                                                                                                                                                                                                                                                                                                                                                                                                                                                                                                                                                                                                                                                                                                                                                                                                                                                                                                                                                                                                                                                                                                                                                                                                                                                  |NULL          |0             |false    |low         |NULL                                 |888685772680941568|888685772680941568|NULL                   |NULL                 |NULL                     |NULL               |NULL                   |false          |en  |NULL                   |{{[[[-2.559912, 53.431542], [-2.559912, 53.442061], [-2.542455, 53.442061], [-2.542455, 53.431542]]], Polygon}, United Kingdom, GB, Croft, England, 3c677485b60d8a88, Croft, city, https://api.twitter.com/1.1/geo/id/3c677485b60d8a88.json}                                          |false             |NULL                                                                                                                                                                                                                                                                                                                                                                                                                                                                                                                                                                                                                                                                                                                                                                                                                                                                                                                                                                                                                                                                                                                                         |NULL              |NULL                |0            |false    |<a href=\"http://twitter.com/download/android\" rel=\"nofollow\">Twitter for Android</a>|Bright Horizon Family Solutions share sales:\\n\\nhttps://t.co/e91R3vRTVC                                                                                                            |1500714173847|false    |{false, Sat Jun 11 08:13:58 +0000 2011, false, false, Very proud mum. Chartered Surveyor.  Managing Director​ Childcare & Education Christie & Co UK - Europe - Asia - China. Co-Opted Trustee NDNA, 1609, NULL, 1979, NULL, 1097, true, 315079829, 315079829, false, en, 63, Going Global! , Courteney Donaldson, NULL, 131516, http://abs.twimg.com/images/themes/theme14/bg.gif, https://abs.twimg.com/images/themes/theme14/bg.gif, true, https://pbs.twimg.com/profile_banners/315079829/1398792842, http://pbs.twimg.com/profile_images/756232295070048256/M1S5AhmT_normal.jpg, https://pbs.twimg.com/profile_images/756232295070048256/M1S5AhmT_normal.jpg, 003699, EEEEEE, EFEFEF, 333333, true, false, courteneyccs, 8573, Europe/London, http://uk.linkedin.com/in/courteneydonaldsonmrics, 3600, false}                                                                                                                                                                                                       |\n",
            "|NULL        |{[-121.94462, 37.32551], Point}      |Sat Jul 22 09:02:53 +0000 2017|NULL              |{[{[22, 34], XiaoLongBao}, {[52, 62], Latergram}, {[63, 77], iSeeMyFriends}], NULL, [], [{instagram.com/p/BW19W6QgujH/, https://www.instagram.com/p/BW19W6QgujH/, [79, 102], https://t.co/i8knW2nzbR}], []}                                                                                                                                                                                                                                                                                                                               |NULL                                                                                                                                                                                                                                                                                                                                                                                                                                                                                                                                                                                                                                                                                                                                                                                                                                                                                                                                                                                                                                                                                                                                                                                                                                                                                                                                                                                                                                                                                                                                                                  |NULL          |0             |false    |low         |{[37.32551, -121.94462], Point}      |888685772366376960|888685772366376960|NULL                   |NULL                 |NULL                     |NULL               |NULL                   |false          |en  |NULL                   |{{[[[-122.035311, 37.193164], [-122.035311, 37.469154], [-121.71215, 37.469154], [-121.71215, 37.193164]]], Polygon}, United States, US, San Jose, CA, 7d62cffe6f98f349, San Jose, city, https://api.twitter.com/1.1/geo/id/7d62cffe6f98f349.json}                                    |false             |NULL                                                                                                                                                                                                                                                                                                                                                                                                                                                                                                                                                                                                                                                                                                                                                                                                                                                                                                                                                                                                                                                                                                                                         |NULL              |NULL                |0            |false    |<a href=\"http://instagram.com\" rel=\"nofollow\">Instagram</a>                         |Oops ended up getting #XiaoLongBao today.\\n.\\n.\\n.\\n.\\n.\\n#Latergram #iSeeMyFriends… https://t.co/i8knW2nzbR                                                                       |1500714173772|false    |{false, Fri Feb 03 01:53:31 +0000 2012, false, false, Never stop dancing. Every moment is a danceable moment. I am Dirty Chai. 가끔 한국어로 튀트 게시한다., 1288, NULL, 87, NULL, 87, true, 481676228, 481676228, false, en, 7, CA, USA, Joshua Laroya, NULL, 000000, http://abs.twimg.com/images/themes/theme13/bg.gif, https://abs.twimg.com/images/themes/theme13/bg.gif, false, https://pbs.twimg.com/profile_banners/481676228/1494831069, http://pbs.twimg.com/profile_images/742664338511560704/KvL-6VeR_normal.jpg, https://pbs.twimg.com/profile_images/742664338511560704/KvL-6VeR_normal.jpg, 91D2FA, 000000, 000000, 000000, false, false, iamdirtychai, 3120, Pacific Time (US & Canada), https://www.linkedin.com/in/joshualaroya, -25200, false}                                                                                                                                                                                                                                                         |\n",
            "|NULL        |NULL                                 |Sat Jul 22 09:02:53 +0000 2017|[10, 22]          |{[], NULL, [], [], [{383277065, 383277065, [0, 9], Sol Lo, Somkanel}]}                                                                                                                                                                                                                                                                                                                                                                                                                                                                    |NULL                                                                                                                                                                                                                                                                                                                                                                                                                                                                                                                                                                                                                                                                                                                                                                                                                                                                                                                                                                                                                                                                                                                                                                                                                                                                                                                                                                                                                                                                                                                                                                  |NULL          |0             |false    |low         |NULL                                 |888685772961849344|888685772961849344|Somkanel               |888654760575852545   |888654760575852545       |383277065          |383277065              |false          |zh  |NULL                   |{{[[[120.858322, 30.69094], [120.858322, 31.86889], [121.9733, 31.86889], [121.9733, 30.69094]]], Polygon}, 中华人民共和国, CN, 上海, 中华人民共和国, 01a20da949498784, 上海, admin, https://api.twitter.com/1.1/geo/id/01a20da949498784.json}                                        |NULL              |NULL                                                                                                                                                                                                                                                                                                                                                                                                                                                                                                                                                                                                                                                                                                                                                                                                                                                                                                                                                                                                                                                                                                                                         |NULL              |NULL                |0            |false    |<a href=\"http://twitter.com/download/iphone\" rel=\"nofollow\">Twitter for iPhone</a>  |@Somkanel 对～～～还有蒸蛋和红豆汤                                                                                                                                                 |1500714173914|false    |{false, Mon Sep 15 06:59:36 +0000 2014, false, false, 小姐姐/喝酒不抽烟/写代码做运营谈市场/喜欢电音/喜欢海边, 59, NULL, 520, NULL, 541, true, 2810860753, 2810860753, false, zh-cn, 6, 杭州, 五花肉, NULL, 000000, http://abs.twimg.com/images/themes/theme1/bg.png, https://abs.twimg.com/images/themes/theme1/bg.png, false, https://pbs.twimg.com/profile_banners/2810860753/1410764833, http://pbs.twimg.com/profile_images/886936007366516736/vhe-9U1O_normal.jpg, https://pbs.twimg.com/profile_images/886936007366516736/vhe-9U1O_normal.jpg, 89C9FA, 000000, 000000, 000000, false, false, Littletree_xc, 181, NULL, NULL, NULL, false}                                                                                                                                                                                                                                                                                                                                                                          |\n",
            "|NULL        |NULL                                 |Sat Jul 22 09:02:53 +0000 2017|NULL              |{[], NULL, [], [], []}                                                                                                                                                                                                                                                                                                                                                                                                                                                                                                                    |NULL                                                                                                                                                                                                                                                                                                                                                                                                                                                                                                                                                                                                                                                                                                                                                                                                                                                                                                                                                                                                                                                                                                                                                                                                                                                                                                                                                                                                                                                                                                                                                                  |NULL          |0             |false    |low         |NULL                                 |888685773121138689|888685773121138689|NULL                   |NULL                 |NULL                     |NULL               |NULL                   |false          |en  |NULL                   |{{[[[-118.06946, 34.087059], [-118.06946, 34.180507], [-117.99218, 34.180507], [-117.99218, 34.087059]]], Polygon}, United States, US, Arcadia, CA, e6fc035b8939bd3b, Arcadia, city, https://api.twitter.com/1.1/geo/id/e6fc035b8939bd3b.json}                                        |NULL              |NULL                                                                                                                                                                                                                                                                                                                                                                                                                                                                                                                                                                                                                                                                                                                                                                                                                                                                                                                                                                                                                                                                                                                                         |NULL              |NULL                |0            |false    |<a href=\"http://twitter.com/download/iphone\" rel=\"nofollow\">Twitter for iPhone</a>  |y'all pussy nigga fakin'                                                                                                                                                           |1500714173952|false    |{false, Sat Jan 07 11:04:43 +0000 2012, false, false, no i'm kara's, 2791, NULL, 533, NULL, 386, true, 457402170, 457402170, false, en, 1, Arcadia, CA, Zoilo Bartolome, NULL, 709397, http://abs.twimg.com/images/themes/theme6/bg.gif, https://abs.twimg.com/images/themes/theme6/bg.gif, false, https://pbs.twimg.com/profile_banners/457402170/1498663812, http://pbs.twimg.com/profile_images/887563333578014721/0MXMNCyZ_normal.jpg, https://pbs.twimg.com/profile_images/887563333578014721/0MXMNCyZ_normal.jpg, 3B94D9, 86A4A6, A0C5C7, 333333, true, false, ZBarts19, 10206, Pacific Time (US & Canada), NULL, -25200, false}                                                                                                                                                                                                                                                                                                                                                                                   |\n",
            "+------------+-------------------------------------+------------------------------+------------------+------------------------------------------------------------------------------------------------------------------------------------------------------------------------------------------------------------------------------------------------------------------------------------------------------------------------------------------------------------------------------------------------------------------------------------------------------------------------------------------------------------------------------------------+----------------------------------------------------------------------------------------------------------------------------------------------------------------------------------------------------------------------------------------------------------------------------------------------------------------------------------------------------------------------------------------------------------------------------------------------------------------------------------------------------------------------------------------------------------------------------------------------------------------------------------------------------------------------------------------------------------------------------------------------------------------------------------------------------------------------------------------------------------------------------------------------------------------------------------------------------------------------------------------------------------------------------------------------------------------------------------------------------------------------------------------------------------------------------------------------------------------------------------------------------------------------------------------------------------------------------------------------------------------------------------------------------------------------------------------------------------------------------------------------------------------------------------------------------------------------+--------------+--------------+---------+------------+-------------------------------------+------------------+------------------+-----------------------+---------------------+-------------------------+-------------------+-----------------------+---------------+----+-----------------------+--------------------------------------------------------------------------------------------------------------------------------------------------------------------------------------------------------------------------------------------------------------------------------------+------------------+---------------------------------------------------------------------------------------------------------------------------------------------------------------------------------------------------------------------------------------------------------------------------------------------------------------------------------------------------------------------------------------------------------------------------------------------------------------------------------------------------------------------------------------------------------------------------------------------------------------------------------------------------------------------------------------------------------------------------------------------------------------------------------------------------------------------------------------------------------------------------------------------------------------------------------------------------------------------------------------------------------------------------------------------------------------------------------------------------------------------------------------------+------------------+--------------------+-------------+---------+------------------------------------------------------------------------------------+-----------------------------------------------------------------------------------------------------------------------------------------------------------------------------------+-------------+---------+-------------------------------------------------------------------------------------------------------------------------------------------------------------------------------------------------------------------------------------------------------------------------------------------------------------------------------------------------------------------------------------------------------------------------------------------------------------------------------------------------------------------------------------------------------------------------------------------------------------------------------------------------------------------------------------------------------------------------------------------------------------------------------------------------------------------------------------------------------------------------------------------------------------------------------------------------------------------------------------------------------------------------+\n",
            "only showing top 20 rows\n",
            "\n"
          ]
        }
      ]
    },
    {
      "cell_type": "markdown",
      "source": [
        "Selecting only the necessary columns helps reduce the size of the DataFrame, making it more manageable for subsequent analyses. This can improve performance by minimizing memory usage and processing time.\n",
        "\n"
      ],
      "metadata": {
        "id": "n6c_T1rF_9JR"
      }
    },
    {
      "cell_type": "code",
      "source": [
        "# Extract columns which are necessary\n",
        "my_df = my_df.select(\"created_at\", \"coordinates\", \"text\", \"place\")\n",
        "my_df.show(10, truncate=False)"
      ],
      "metadata": {
        "colab": {
          "base_uri": "https://localhost:8080/"
        },
        "id": "lpJHP9nz-VVI",
        "outputId": "97b22917-3664-4277-9e8d-19f164809228"
      },
      "execution_count": 10,
      "outputs": [
        {
          "output_type": "stream",
          "name": "stdout",
          "text": [
            "+------------------------------+--------------------------------+-----------------------------------------------------------------------------------------------------------------------------------------------------------------------------------+--------------------------------------------------------------------------------------------------------------------------------------------------------------------------------------------------------------------------------------------------------------------------------------+\n",
            "|created_at                    |coordinates                     |text                                                                                                                                                                               |place                                                                                                                                                                                                                                                                                 |\n",
            "+------------------------------+--------------------------------+-----------------------------------------------------------------------------------------------------------------------------------------------------------------------------------+--------------------------------------------------------------------------------------------------------------------------------------------------------------------------------------------------------------------------------------------------------------------------------------+\n",
            "|Sat Jul 22 09:02:53 +0000 2017|NULL                            |@AmandaMullen3 @scottclarke948 Nothing but nothing beats feeling proud ❤❤ I'm made up for you all                                                                                  |{{[[[-2.319934, 53.343623], [-2.319934, 53.570282], [-2.147026, 53.570282], [-2.147026, 53.343623]]], Polygon}, United Kingdom, GB, Manchester, England, 315b740b108481f6, Manchester, city, https://api.twitter.com/1.1/geo/id/315b740b108481f6.json}                                |\n",
            "|Sat Jul 22 09:02:53 +0000 2017|{[129.493744, 28.377247], Point}|日()  最高 最低 降水確率 #天気c4                                                                                                                                                   |{{[[[129.343186, 28.193773], [129.343186, 28.530739], [129.722484, 28.530739], [129.722484, 28.193773]]], Polygon}, 日本, JP, 鹿児 奄美市, 0e98c298cdbd6cf1, 奄美市, city, https://api.twitter.com/1.1/geo/id/0e98c298cdbd6cf1.json}                                                  |\n",
            "|Sat Jul 22 09:02:53 +0000 2017|{[-66.8983, 10.496], Point}     |@ManiceriaSJorge la 1ª mención de #Receta aparece en tu TL. ¡Ahora es Tendencia en Venezuela! #trndnl                                                                              |{{[[[-66.998581, 10.440464], [-66.998581, 10.526614], [-66.862707, 10.526614], [-66.862707, 10.440464]]], Polygon}, Venezuela, VE, Caracas, Venezuela, 00ec4c32070f5076, Caracas, city, https://api.twitter.com/1.1/geo/id/00ec4c32070f5076.json}                                     |\n",
            "|Sat Jul 22 09:02:52 +0000 2017|NULL                            |騎車去海邊的一個午後，天氣很好但也很累，好險用的是摩拜，騎到一半直接坐公交回家了。在海邊遠眺了香港大嶼山和港珠澳大橋，吹了一下海風，感受了一下陽光。(´･_･`) https://t.co/p4vo8rnoJo|{{[[[109.664659, 20.221264], [109.664659, 25.518608], [117.17479, 25.518608], [117.17479, 20.221264]]], Polygon}, People's Republic of China, CN, Guangdong, People's Republic of China, 00059b04495a7e37, Guangdong, admin, https://api.twitter.com/1.1/geo/id/00059b04495a7e37.json}|\n",
            "|Sat Jul 22 09:02:53 +0000 2017|NULL                            |@StuK_40 ぐ https://t.co/JKrtUYGcY9                                                                                                                                                |{{[[[139.673228, 35.673404], [139.673228, 35.72991], [139.745133, 35.72991], [139.745133, 35.673404]]], Polygon}, 日本, JP, 東京 新宿区, 7ee61f505fdfdf5c, 新宿区, city, https://api.twitter.com/1.1/geo/id/7ee61f505fdfdf5c.json}                                                    |\n",
            "|Sat Jul 22 09:02:53 +0000 2017|NULL                            |今日もここから！(ﾟ∀ﾟ)ﾉ https://t.co/MXNoNylWbe                                                                                                                                     |{{[[[139.716598, 35.67375], [139.716598, 35.67375], [139.716598, 35.67375], [139.716598, 35.67375]]], Polygon}, 日本, JP, 明治神宮野球場, 09efc0d2d956f001, 明治神宮野球場, poi, https://api.twitter.com/1.1/geo/id/09efc0d2d956f001.json}                                            |\n",
            "|Sat Jul 22 09:02:53 +0000 2017|NULL                            |@min_rail PNR no.6602666380. No soap in the toilet in IIA in 11040 Maharashtra exp.to Kolhapur                                                                                     |{{[[[72.64293, 15.606794], [72.64293, 22.029028], [80.899558, 22.029028], [80.899558, 15.606794]]], Polygon}, India, IN, Maharashtra, India, 4c6bf2b7c14c8f88, Maharashtra, admin, https://api.twitter.com/1.1/geo/id/4c6bf2b7c14c8f88.json}                                          |\n",
            "|Sat Jul 22 09:02:53 +0000 2017|NULL                            |Écoutons le Gones sans culture foot https://t.co/hKhNvHr1Ue                                                                                                                        |{{[[[-5.141593, 41.364659], [-5.141593, 51.088771], [9.559831, 51.088771], [9.559831, 41.364659]]], Polygon}, France, FR, France, f3bfc7dcc928977f, France, country, https://api.twitter.com/1.1/geo/id/f3bfc7dcc928977f.json}                                                        |\n",
            "|Sat Jul 22 09:02:53 +0000 2017|NULL                            |Mañana TORNEO Apúntate y gana una tarjeta de 15 para tus gemas. \\n🖌https://t.co/98j9H592BI https://t.co/tonnl1jXmJ                                                                |{{[[[-0.782491, 38.127787], [-0.782491, 38.344645], [-0.510153, 38.344645], [-0.510153, 38.127787]]], Polygon}, España, ES, Elche, España, 3178a2f5b3c63ea4, Elche, city, https://api.twitter.com/1.1/geo/id/3178a2f5b3c63ea4.json}                                                   |\n",
            "|Sat Jul 22 09:02:53 +0000 2017|NULL                            |لانك على قولة أهل السعوووديه  انتي كذاا حجه مرررررررررررررررره جميييله 🎶🎶🎶🎶🎶🎶🎶😂😂😂😂😂😂😂💚💚💚💚💚💚 https://t.co/ytn9e2Hovo                                            |{{[[[41.815344, 12.106866], [41.815344, 18.998648], [54.534186, 18.998648], [54.534186, 12.106866]]], Polygon}, Yemen, YE, Yemen, e5ac80d8b565c01f, Yemen, country, https://api.twitter.com/1.1/geo/id/e5ac80d8b565c01f.json}                                                         |\n",
            "+------------------------------+--------------------------------+-----------------------------------------------------------------------------------------------------------------------------------------------------------------------------------+--------------------------------------------------------------------------------------------------------------------------------------------------------------------------------------------------------------------------------------------------------------------------------------+\n",
            "only showing top 10 rows\n",
            "\n"
          ]
        }
      ]
    },
    {
      "cell_type": "markdown",
      "source": [
        "This sets the Spark SQL configuration to use the \"LEGACY\" time parser policy. This is useful when dealing with date and time formats that are not compatible with the newer parsing rules introduced in Spark 3.0."
      ],
      "metadata": {
        "id": "E9JQyYtOAOub"
      }
    },
    {
      "cell_type": "code",
      "source": [
        "spark.conf.set(\"spark.sql.legacy.timeParserPolicy\", \"LEGACY\")\n",
        "my_df = my_df.withColumn(\"created_at\", to_timestamp(\"created_at\", \"EEE MMM dd HH:mm:ss Z yyyy\"))\n",
        "my_df.show(truncate=False)"
      ],
      "metadata": {
        "colab": {
          "base_uri": "https://localhost:8080/"
        },
        "id": "uwWzaD_uCkoa",
        "outputId": "460accb2-b797-4d25-e0e4-bdd27d339ffe"
      },
      "execution_count": 11,
      "outputs": [
        {
          "output_type": "stream",
          "name": "stdout",
          "text": [
            "+-------------------+-------------------------------------+-----------------------------------------------------------------------------------------------------------------------------------------------------------------------------------+--------------------------------------------------------------------------------------------------------------------------------------------------------------------------------------------------------------------------------------------------------------------------------------+\n",
            "|created_at         |coordinates                          |text                                                                                                                                                                               |place                                                                                                                                                                                                                                                                                 |\n",
            "+-------------------+-------------------------------------+-----------------------------------------------------------------------------------------------------------------------------------------------------------------------------------+--------------------------------------------------------------------------------------------------------------------------------------------------------------------------------------------------------------------------------------------------------------------------------------+\n",
            "|2017-07-22 09:02:53|NULL                                 |@AmandaMullen3 @scottclarke948 Nothing but nothing beats feeling proud ❤❤ I'm made up for you all                                                                                  |{{[[[-2.319934, 53.343623], [-2.319934, 53.570282], [-2.147026, 53.570282], [-2.147026, 53.343623]]], Polygon}, United Kingdom, GB, Manchester, England, 315b740b108481f6, Manchester, city, https://api.twitter.com/1.1/geo/id/315b740b108481f6.json}                                |\n",
            "|2017-07-22 09:02:53|{[129.493744, 28.377247], Point}     |日()  最高 最低 降水確率 #天気c4                                                                                                                                                   |{{[[[129.343186, 28.193773], [129.343186, 28.530739], [129.722484, 28.530739], [129.722484, 28.193773]]], Polygon}, 日本, JP, 鹿児 奄美市, 0e98c298cdbd6cf1, 奄美市, city, https://api.twitter.com/1.1/geo/id/0e98c298cdbd6cf1.json}                                                  |\n",
            "|2017-07-22 09:02:53|{[-66.8983, 10.496], Point}          |@ManiceriaSJorge la 1ª mención de #Receta aparece en tu TL. ¡Ahora es Tendencia en Venezuela! #trndnl                                                                              |{{[[[-66.998581, 10.440464], [-66.998581, 10.526614], [-66.862707, 10.526614], [-66.862707, 10.440464]]], Polygon}, Venezuela, VE, Caracas, Venezuela, 00ec4c32070f5076, Caracas, city, https://api.twitter.com/1.1/geo/id/00ec4c32070f5076.json}                                     |\n",
            "|2017-07-22 09:02:52|NULL                                 |騎車去海邊的一個午後，天氣很好但也很累，好險用的是摩拜，騎到一半直接坐公交回家了。在海邊遠眺了香港大嶼山和港珠澳大橋，吹了一下海風，感受了一下陽光。(´･_･`) https://t.co/p4vo8rnoJo|{{[[[109.664659, 20.221264], [109.664659, 25.518608], [117.17479, 25.518608], [117.17479, 20.221264]]], Polygon}, People's Republic of China, CN, Guangdong, People's Republic of China, 00059b04495a7e37, Guangdong, admin, https://api.twitter.com/1.1/geo/id/00059b04495a7e37.json}|\n",
            "|2017-07-22 09:02:53|NULL                                 |@StuK_40 ぐ https://t.co/JKrtUYGcY9                                                                                                                                                |{{[[[139.673228, 35.673404], [139.673228, 35.72991], [139.745133, 35.72991], [139.745133, 35.673404]]], Polygon}, 日本, JP, 東京 新宿区, 7ee61f505fdfdf5c, 新宿区, city, https://api.twitter.com/1.1/geo/id/7ee61f505fdfdf5c.json}                                                    |\n",
            "|2017-07-22 09:02:53|NULL                                 |今日もここから！(ﾟ∀ﾟ)ﾉ https://t.co/MXNoNylWbe                                                                                                                                     |{{[[[139.716598, 35.67375], [139.716598, 35.67375], [139.716598, 35.67375], [139.716598, 35.67375]]], Polygon}, 日本, JP, 明治神宮野球場, 09efc0d2d956f001, 明治神宮野球場, poi, https://api.twitter.com/1.1/geo/id/09efc0d2d956f001.json}                                            |\n",
            "|2017-07-22 09:02:53|NULL                                 |@min_rail PNR no.6602666380. No soap in the toilet in IIA in 11040 Maharashtra exp.to Kolhapur                                                                                     |{{[[[72.64293, 15.606794], [72.64293, 22.029028], [80.899558, 22.029028], [80.899558, 15.606794]]], Polygon}, India, IN, Maharashtra, India, 4c6bf2b7c14c8f88, Maharashtra, admin, https://api.twitter.com/1.1/geo/id/4c6bf2b7c14c8f88.json}                                          |\n",
            "|2017-07-22 09:02:53|NULL                                 |Écoutons le Gones sans culture foot https://t.co/hKhNvHr1Ue                                                                                                                        |{{[[[-5.141593, 41.364659], [-5.141593, 51.088771], [9.559831, 51.088771], [9.559831, 41.364659]]], Polygon}, France, FR, France, f3bfc7dcc928977f, France, country, https://api.twitter.com/1.1/geo/id/f3bfc7dcc928977f.json}                                                        |\n",
            "|2017-07-22 09:02:53|NULL                                 |Mañana TORNEO Apúntate y gana una tarjeta de 15 para tus gemas. \\n🖌https://t.co/98j9H592BI https://t.co/tonnl1jXmJ                                                                |{{[[[-0.782491, 38.127787], [-0.782491, 38.344645], [-0.510153, 38.344645], [-0.510153, 38.127787]]], Polygon}, España, ES, Elche, España, 3178a2f5b3c63ea4, Elche, city, https://api.twitter.com/1.1/geo/id/3178a2f5b3c63ea4.json}                                                   |\n",
            "|2017-07-22 09:02:53|NULL                                 |لانك على قولة أهل السعوووديه  انتي كذاا حجه مرررررررررررررررره جميييله 🎶🎶🎶🎶🎶🎶🎶😂😂😂😂😂😂😂💚💚💚💚💚💚 https://t.co/ytn9e2Hovo                                            |{{[[[41.815344, 12.106866], [41.815344, 18.998648], [54.534186, 18.998648], [54.534186, 12.106866]]], Polygon}, Yemen, YE, Yemen, e5ac80d8b565c01f, Yemen, country, https://api.twitter.com/1.1/geo/id/e5ac80d8b565c01f.json}                                                         |\n",
            "|2017-07-22 09:02:53|NULL                                 |Cengiz Semercioğlu yazdığın o iğrenç yazıyla sevgili Eşref Kolçak'ı da bir hayli üzmüşsün. Gazetecilik bu değil!Biraz edep! @cengizsemercio                                        |{{[[[25.668509, 35.808419], [25.668509, 42.104786], [44.817931, 42.104786], [44.817931, 35.808419]]], Polygon}, Türkiye, TR, Türkiye, 682c5a667856ef42, Türkiye, country, https://api.twitter.com/1.1/geo/id/682c5a667856ef42.json}                                                   |\n",
            "|2017-07-22 09:02:53|NULL                                 |tangina nagsidera kame,100%,tas kumanta lang ako your love saglet 52% agad pota parang siya lang hahahaha eme                                                                      |{{[[[120.883855, 14.428229], [120.883855, 14.467822], [120.931151, 14.467822], [120.931151, 14.428229]]], Polygon}, Republic of the Philippines, PH, Kawit, Calabarzon, 010dfaa2304c677b, Kawit, city, https://api.twitter.com/1.1/geo/id/010dfaa2304c677b.json}                      |\n",
            "|2017-07-22 09:02:53|{[129.493744, 28.377247], Point}     |日()  最高 最低 降水確率 #天気c5                                                                                                                                                   |{{[[[129.343186, 28.193773], [129.343186, 28.530739], [129.722484, 28.530739], [129.722484, 28.193773]]], Polygon}, 日本, JP, 鹿児 奄美市, 0e98c298cdbd6cf1, 奄美市, city, https://api.twitter.com/1.1/geo/id/0e98c298cdbd6cf1.json}                                                  |\n",
            "|2017-07-22 09:02:53|NULL                                 |@RockhamptonRams @SlimbridgeCC Any chance of calling the game off early? No chance of playing                                                                                      |{{[[[-2.659936, 51.399367], [-2.659936, 51.516387], [-2.510844, 51.516387], [-2.510844, 51.399367]]], Polygon}, United Kingdom, GB, Bristol, England, 7f15dd80ac78ef40, Bristol, city, https://api.twitter.com/1.1/geo/id/7f15dd80ac78ef40.json}                                      |\n",
            "|NULL               |NULL                                 |NULL                                                                                                                                                                               |NULL                                                                                                                                                                                                                                                                                  |\n",
            "|2017-07-22 09:02:53|{[149.69333333, -34.85916667], Point}|Wind 14 km/h NNW. Barometer 1004.1 hPa, Falling slowly. Temperature 3.6 °C. Rain today 0.0mm. Humidity 64%                                                                         |{{[[[149.606253, -34.96324], [149.606253, -34.786698], [149.743039, -34.786698], [149.743039, -34.96324]]], Polygon}, Australia, AU, Tirrannaville, Goulburn, 4363c77c742d5ca2, Tirrannaville, neighborhood, https://api.twitter.com/1.1/geo/id/4363c77c742d5ca2.json}                |\n",
            "|2017-07-22 09:02:53|NULL                                 |Bright Horizon Family Solutions share sales:\\n\\nhttps://t.co/e91R3vRTVC                                                                                                            |{{[[[-2.559912, 53.431542], [-2.559912, 53.442061], [-2.542455, 53.442061], [-2.542455, 53.431542]]], Polygon}, United Kingdom, GB, Croft, England, 3c677485b60d8a88, Croft, city, https://api.twitter.com/1.1/geo/id/3c677485b60d8a88.json}                                          |\n",
            "|2017-07-22 09:02:53|{[-121.94462, 37.32551], Point}      |Oops ended up getting #XiaoLongBao today.\\n.\\n.\\n.\\n.\\n.\\n#Latergram #iSeeMyFriends… https://t.co/i8knW2nzbR                                                                       |{{[[[-122.035311, 37.193164], [-122.035311, 37.469154], [-121.71215, 37.469154], [-121.71215, 37.193164]]], Polygon}, United States, US, San Jose, CA, 7d62cffe6f98f349, San Jose, city, https://api.twitter.com/1.1/geo/id/7d62cffe6f98f349.json}                                    |\n",
            "|2017-07-22 09:02:53|NULL                                 |@Somkanel 对～～～还有蒸蛋和红豆汤                                                                                                                                                 |{{[[[120.858322, 30.69094], [120.858322, 31.86889], [121.9733, 31.86889], [121.9733, 30.69094]]], Polygon}, 中华人民共和国, CN, 上海, 中华人民共和国, 01a20da949498784, 上海, admin, https://api.twitter.com/1.1/geo/id/01a20da949498784.json}                                        |\n",
            "|2017-07-22 09:02:53|NULL                                 |y'all pussy nigga fakin'                                                                                                                                                           |{{[[[-118.06946, 34.087059], [-118.06946, 34.180507], [-117.99218, 34.180507], [-117.99218, 34.087059]]], Polygon}, United States, US, Arcadia, CA, e6fc035b8939bd3b, Arcadia, city, https://api.twitter.com/1.1/geo/id/e6fc035b8939bd3b.json}                                        |\n",
            "+-------------------+-------------------------------------+-----------------------------------------------------------------------------------------------------------------------------------------------------------------------------------+--------------------------------------------------------------------------------------------------------------------------------------------------------------------------------------------------------------------------------------------------------------------------------------+\n",
            "only showing top 20 rows\n",
            "\n"
          ]
        }
      ]
    },
    {
      "cell_type": "markdown",
      "source": [
        "We extract latitude and longitude based on the availability of coordinates and place data. If explicit coordinates are not available, we compute the average longitude and latitude from the bounding box of the place. The resulting values are then used to create a spatial point for further geospatial analysis."
      ],
      "metadata": {
        "id": "DuTuyC4CBIkz"
      }
    },
    {
      "cell_type": "code",
      "source": [
        "# Extract longitude\n",
        "my_df = my_df.withColumn(\"longitude\", when(\n",
        "    col(\"coordinates\").isNull() & col(\"place\").isNotNull(),\n",
        "    expr(\"aggregate(place.bounding_box.coordinates[0], cast(0.0 as double), (acc, x) -> acc + cast(x[0] as double)) / 4\")\n",
        ").otherwise(col(\"coordinates\").getField(\"coordinates\")[0]))  # Adjusted access to coordinates\n",
        "\n",
        "# Extract latitude\n",
        "my_df = my_df.withColumn(\"latitude\", when(\n",
        "    col(\"coordinates\").isNull() & col(\"place\").isNotNull(),\n",
        "    expr(\"aggregate(place.bounding_box.coordinates[0], cast(0.0 as double), (acc, x) -> acc + cast(x[1] as double)) / 4\")\n",
        ").otherwise(col(\"coordinates\").getField(\"coordinates\")[1]))  # Adjusted access to coordinates\n",
        "\n",
        "# Create a location column\n",
        "my_df = my_df.withColumn(\"location\", ST_Point(col(\"longitude\"), col(\"latitude\")))\n",
        "\n",
        "# Show df\n",
        "my_df.show(5, truncate=False)\n"
      ],
      "metadata": {
        "colab": {
          "base_uri": "https://localhost:8080/"
        },
        "id": "9rqX5UjGdMj7",
        "outputId": "2cfe5e05-a05e-4c34-b357-12112d92edd8"
      },
      "execution_count": 12,
      "outputs": [
        {
          "output_type": "stream",
          "name": "stdout",
          "text": [
            "+-------------------+--------------------------------+-----------------------------------------------------------------------------------------------------------------------------------------------------------------------------------+--------------------------------------------------------------------------------------------------------------------------------------------------------------------------------------------------------------------------------------------------------------------------------------+-----------+------------------+--------------------------------------+\n",
            "|created_at         |coordinates                     |text                                                                                                                                                                               |place                                                                                                                                                                                                                                                                                 |longitude  |latitude          |location                              |\n",
            "+-------------------+--------------------------------+-----------------------------------------------------------------------------------------------------------------------------------------------------------------------------------+--------------------------------------------------------------------------------------------------------------------------------------------------------------------------------------------------------------------------------------------------------------------------------------+-----------+------------------+--------------------------------------+\n",
            "|2017-07-22 09:02:53|NULL                            |@AmandaMullen3 @scottclarke948 Nothing but nothing beats feeling proud ❤❤ I'm made up for you all                                                                                  |{{[[[-2.319934, 53.343623], [-2.319934, 53.570282], [-2.147026, 53.570282], [-2.147026, 53.343623]]], Polygon}, United Kingdom, GB, Manchester, England, 315b740b108481f6, Manchester, city, https://api.twitter.com/1.1/geo/id/315b740b108481f6.json}                                |-2.23348   |53.4569525        |POINT (-2.23348 53.4569525)           |\n",
            "|2017-07-22 09:02:53|{[129.493744, 28.377247], Point}|日()  最高 最低 降水確率 #天気c4                                                                                                                                                   |{{[[[129.343186, 28.193773], [129.343186, 28.530739], [129.722484, 28.530739], [129.722484, 28.193773]]], Polygon}, 日本, JP, 鹿児 奄美市, 0e98c298cdbd6cf1, 奄美市, city, https://api.twitter.com/1.1/geo/id/0e98c298cdbd6cf1.json}                                                  |129.493744 |28.377247         |POINT (129.493744 28.377247)          |\n",
            "|2017-07-22 09:02:53|{[-66.8983, 10.496], Point}     |@ManiceriaSJorge la 1ª mención de #Receta aparece en tu TL. ¡Ahora es Tendencia en Venezuela! #trndnl                                                                              |{{[[[-66.998581, 10.440464], [-66.998581, 10.526614], [-66.862707, 10.526614], [-66.862707, 10.440464]]], Polygon}, Venezuela, VE, Caracas, Venezuela, 00ec4c32070f5076, Caracas, city, https://api.twitter.com/1.1/geo/id/00ec4c32070f5076.json}                                     |-66.8983   |10.496            |POINT (-66.8983 10.496)               |\n",
            "|2017-07-22 09:02:52|NULL                            |騎車去海邊的一個午後，天氣很好但也很累，好險用的是摩拜，騎到一半直接坐公交回家了。在海邊遠眺了香港大嶼山和港珠澳大橋，吹了一下海風，感受了一下陽光。(´･_･`) https://t.co/p4vo8rnoJo|{{[[[109.664659, 20.221264], [109.664659, 25.518608], [117.17479, 25.518608], [117.17479, 20.221264]]], Polygon}, People's Republic of China, CN, Guangdong, People's Republic of China, 00059b04495a7e37, Guangdong, admin, https://api.twitter.com/1.1/geo/id/00059b04495a7e37.json}|113.4197245|22.869936000000003|POINT (113.4197245 22.869936000000003)|\n",
            "|2017-07-22 09:02:53|NULL                            |@StuK_40 ぐ https://t.co/JKrtUYGcY9                                                                                                                                                |{{[[[139.673228, 35.673404], [139.673228, 35.72991], [139.745133, 35.72991], [139.745133, 35.673404]]], Polygon}, 日本, JP, 東京 新宿区, 7ee61f505fdfdf5c, 新宿区, city, https://api.twitter.com/1.1/geo/id/7ee61f505fdfdf5c.json}                                                    |139.7091805|35.701657         |POINT (139.7091805 35.701657)         |\n",
            "+-------------------+--------------------------------+-----------------------------------------------------------------------------------------------------------------------------------------------------------------------------------+--------------------------------------------------------------------------------------------------------------------------------------------------------------------------------------------------------------------------------------------------------------------------------------+-----------+------------------+--------------------------------------+\n",
            "only showing top 5 rows\n",
            "\n"
          ]
        }
      ]
    },
    {
      "cell_type": "markdown",
      "source": [
        "Counting null values is a critical step in the data analysis process. It provides insights into data quality and completeness, informs data cleaning strategies, and helps ensure that the analysis is based on reliable and meaningful data."
      ],
      "metadata": {
        "id": "mHRfwcKWCYmz"
      }
    },
    {
      "cell_type": "code",
      "source": [
        "null_count_place = my_df.filter(col(\"place\").isNull()).count()\n",
        "null_count_longitude = my_df.filter(col(\"longitude\").isNull()).count()\n",
        "null_count_latitude = my_df.filter(col(\"latitude\").isNull()).count()\n",
        "\n",
        "print(f\"Number of null values in 'longitude' column: {null_count_longitude}\")\n",
        "print(f\"Number of null values in 'latitude' column: {null_count_latitude}\")\n",
        "print(f\"Number of null values in 'place' column: {null_count_place}\")"
      ],
      "metadata": {
        "colab": {
          "base_uri": "https://localhost:8080/"
        },
        "id": "45eBM_65ze9V",
        "outputId": "6affc6bd-2da5-4e00-a29e-c871f40b6dfb"
      },
      "execution_count": 13,
      "outputs": [
        {
          "output_type": "stream",
          "name": "stdout",
          "text": [
            "Number of null values in 'longitude' column: 1679\n",
            "Number of null values in 'latitude' column: 1679\n",
            "Number of null values in 'place' column: 1914\n"
          ]
        }
      ]
    },
    {
      "cell_type": "markdown",
      "source": [
        "We do this to clean the DataFrame by removing rows that lack critical information and dropping columns that are no longer needed. This enhances data quality, efficiency, and clarity, which are all crucial for effective data analysis and modeling.\n",
        "\n",
        "\n",
        "\n",
        "\n"
      ],
      "metadata": {
        "id": "w5L76Q7rCnlF"
      }
    },
    {
      "cell_type": "code",
      "source": [
        "# Drop rows where place value and coordinates are both null\n",
        "my_df = my_df.filter(~(col(\"place\").isNull() & col(\"coordinates\").isNull()))\n",
        "\n",
        "# drop place column\n",
        "my_df = my_df.drop(\"place\", \"coordinates\")"
      ],
      "metadata": {
        "id": "R1owie_BzhDX"
      },
      "execution_count": 14,
      "outputs": []
    },
    {
      "cell_type": "code",
      "source": [
        "null_count_location = my_df.filter(col(\"location\").isNull()).count()\n",
        "print(f\"Number of null values in 'location' column: {null_count_location}\")"
      ],
      "metadata": {
        "id": "P8wL4F-XZIPv",
        "colab": {
          "base_uri": "https://localhost:8080/"
        },
        "outputId": "8fdc25d3-c24c-4d13-b29c-a79f78202ada"
      },
      "execution_count": 15,
      "outputs": [
        {
          "output_type": "stream",
          "name": "stdout",
          "text": [
            "Number of null values in 'location' column: 0\n"
          ]
        }
      ]
    },
    {
      "cell_type": "markdown",
      "source": [
        "We convert a DataFrame into a Spatial RDD, enabling efficient spatial operations. By analyzing the Spatial RDD, it ensures that the data is ready for spatial indexing, which optimizes spatial queries. The spatial partitioning step organizes the data into a KDB tree structure, improving query performance by reducing the search space. Finally, building an R-tree index enhances the efficiency of spatial queries, allowing for faster retrieval of spatial data based on geometric relationships.\n"
      ],
      "metadata": {
        "id": "WRkS5WcYDZ-r"
      }
    },
    {
      "cell_type": "code",
      "source": [
        "# 1.3\n",
        "# Convert DataFrame to a Spatial RDD, build rtree (1.3)\n",
        "spatial_rdd = Adapter.toSpatialRdd(my_df, \"location\")\n",
        "\n",
        "spatial_rdd.analyze()\n",
        "\n",
        "spatial_rdd.spatialPartitioning(\"KDBTREE\")\n",
        "\n",
        "num_partitions = num_partitions = spatial_rdd.rawSpatialRDD.getNumPartitions()\n",
        "\n",
        "print(f\"Number of partitions: {num_partitions}\")\n",
        "\n",
        "spatial_rdd.buildIndex(\"RTREE\", True)"
      ],
      "metadata": {
        "id": "dDFphF3x2yix",
        "colab": {
          "base_uri": "https://localhost:8080/"
        },
        "outputId": "c334ff27-4202-4ade-edbf-c82e5c629db9"
      },
      "execution_count": 16,
      "outputs": [
        {
          "output_type": "stream",
          "name": "stdout",
          "text": [
            "Number of partitions: 3\n"
          ]
        }
      ]
    },
    {
      "cell_type": "markdown",
      "source": [
        "We define a specific time range and a bounding box to filter spatial data within a defined geographic area and time period. Then we perform a spatial range query on the Spatial RDD to retrieve relevant records, then extracts and parses user data into a structured format. The parsed data is converted into a DataFrame with a defined schema, enabling further analysis. Finally, it filters the DataFrame to retain only records created within the specified time range, facilitating focused analysis on the desired subset of data.\n",
        "\n",
        "\n",
        "\n",
        "\n"
      ],
      "metadata": {
        "id": "v4P6MeAtD1fV"
      }
    },
    {
      "cell_type": "code",
      "source": [
        "# 1.4\n",
        "# Define the time range\n",
        "\n",
        "t1 = \"2017-07-22 00:00:00\"\n",
        "t2 = \"2017-07-22 23:59:59\"\n",
        "\n",
        "# Define the bounding box as a geometry object\n",
        "xmin, ymin, xmax, ymax = -2.3, 53.3, -2.1, 53.6\n",
        "bounding_box = box(xmin, ymin, xmax, ymax)\n",
        "\n",
        "# Perform a spatial range query\n",
        "query_result = RangeQuery.SpatialRangeQuery(\n",
        "    spatial_rdd,\n",
        "    bounding_box,\n",
        "    True,  # Use the index\n",
        "    False  # Don't use a custom query window\n",
        ")\n",
        "\n",
        "result = query_result.collect()\n",
        "\n",
        "# Extract userdata from the results\n",
        "user_data_list = [row.getUserData() for row in result]\n",
        "\n",
        "# Split the string into fields based on tab delimiter\n",
        "parsed_data = [row.split(\"\\t\") for row in user_data_list]\n",
        "\n",
        "timestamp_format = \"%Y-%m-%d %H:%M:%S.%f\"\n",
        "\n",
        "# Iterate over the list and convert the first element to a datetime object\n",
        "for row in parsed_data:\n",
        "    row[0] = datetime.strptime(row[0], timestamp_format)\n",
        "\n",
        "# Check if any element is 'null' and replace it with None\n",
        "parsed_data = [\n",
        "    [None if x == 'null' else x for x in row] for row in parsed_data\n",
        "]\n",
        "\n",
        "# Define a schema for the resulting DataFrame\n",
        "schema = [\"created_at\", \"text\", \"longitude\", \"latitude\"]\n",
        "\n",
        "\n",
        "# Create the DataFrame from the parsed rows\n",
        "result_df = spark.createDataFrame(parsed_data, schema)\n",
        "\n",
        "\n",
        "# Filter data by time\n",
        "df_filtered_time = result_df.filter(\n",
        "    (col(\"created_at\") >= lit(t1)) & (col(\"created_at\") <= lit(t2))\n",
        ")\n",
        "\n",
        "df_filtered_time.show(truncate=False)"
      ],
      "metadata": {
        "colab": {
          "base_uri": "https://localhost:8080/"
        },
        "id": "kRGAP3DdihY_",
        "outputId": "7cfbe072-a0f4-43be-de99-8ce1e861a73a"
      },
      "execution_count": 32,
      "outputs": [
        {
          "output_type": "stream",
          "name": "stdout",
          "text": [
            "+-------------------+-------------------------------------------------------------------------------------------------------------------------------------------------+----------+------------------+\n",
            "|created_at         |text                                                                                                                                             |longitude |latitude          |\n",
            "+-------------------+-------------------------------------------------------------------------------------------------------------------------------------------------+----------+------------------+\n",
            "|2017-07-22 09:02:53|@AmandaMullen3 @scottclarke948 Nothing but nothing beats feeling proud ❤❤ I'm made up for you all                                                |-2.23348  |53.4569525        |\n",
            "|2017-07-22 09:02:57|#shoplocal #supportindependent #cheshire #stockport #poynton @ UBAgene smoke-grill-bakery https://t.co/uIpPkIxGnq                                |-2.1231491|53.3468493        |\n",
            "|2017-07-22 09:02:58|i love my lane https://t.co/TCMbRyP4w0                                                                                                           |-2.23348  |53.4569525        |\n",
            "|2017-07-22 09:03:11|So today is #NewcastlePride #HullPride and #BrightonPride and I'm not at any of them! Roll on @LiverpoolPride next… https://t.co/9yjc6nHtzV      |-2.23348  |53.4569525        |\n",
            "|2017-07-22 09:03:17|@REDHOTBLUE79 great pic anyway 😂😂                                                                                                              |-2.202075 |53.548435999999995|\n",
            "|2017-07-22 09:03:33|Need to plan a trip to Spain next season now the La Liga fixtures are out. I'd love to do both Malaga and Real Betis in one go.                  |-2.23348  |53.4569525        |\n",
            "|2017-07-22 09:03:41|✈️✨🌎 https://t.co/k1e0blF7LI                                                                                                                    |-2.23348  |53.4569525        |\n",
            "|2017-07-22 09:03:46|@blanchyshed @doctorcaldwell Bullying alone costs #NHS £1 Billion a year! @NHSEngland @NHSImprovement @NHSProviders… https://t.co/XXXOTDuSsF     |-2.23348  |53.4569525        |\n",
            "|2017-07-22 09:04:04|Also, if you're actually there watching can you can only realistically watch one hole too?                                                       |-2.23348  |53.4569525        |\n",
            "|2017-07-22 09:04:06|@AcademyManUtd @EamonnJBurns                                                                                                                     |-2.1556405|53.4146085        |\n",
            "|2017-07-22 09:04:19|Morning cardio.\\n\\n127 steps. 6 sets. Target time 20mins. Total steps completed 762! \\n\\nI honestly Can't feel my legs 🤢 https://t.co/oJULxqvxNV|-2.1556405|53.4146085        |\n",
            "|2017-07-22 09:04:33|@alexeveritt1 all the dross and players to old to compete pep has now got rid of.. Delph fernando to shift and maybe otamendi I'd be happy       |-2.23348  |53.4569525        |\n",
            "|2017-07-22 09:04:36|Get voting! This place is a gem! https://t.co/5hBInQwgGu                                                                                         |-2.23348  |53.4569525        |\n",
            "|2017-07-22 09:04:42|Vicki Gunvalson hospitalised again!? Take a break and get off the show! Same tricks different season #rhoc                                       |-2.23348  |53.4569525        |\n",
            "|2017-07-22 09:04:48|Hi this article by @lewis_goodall is amazing and everyone needs to read it: https://t.co/V8XNstJJBB                                              |-2.1739835|53.3675705        |\n",
            "|2017-07-22 09:05:02|@Jennywren1410 Just watch the fun. I have had an amazing career. If you really care for #NHS (which you do) please… https://t.co/LSuVhkWKNW      |-2.23348  |53.4569525        |\n",
            "|2017-07-22 09:05:12|Good point. Your fave retro diner pie would be..? https://t.co/6cLhXlpg0M                                                                        |-2.2338195|53.3236095        |\n",
            "|2017-07-22 09:05:13|** Tonight **  The Excellent Repertoire Dogs are back at the Harlow War Memorial to Entertain you.  All Welcome.… https://t.co/22UtOlHKt2        |-2.1556405|53.4146085        |\n",
            "|2017-07-22 09:05:17|Bronzetallica 🤘🏼\\n\\n#AncientBandNames                                                                                                          |-2.1168695|53.542865500000005|\n",
            "|2017-07-22 09:05:17|The met is an absolute joke these days. I barely recall a problem free day.                                                                      |-2.23348  |53.4569525        |\n",
            "+-------------------+-------------------------------------------------------------------------------------------------------------------------------------------------+----------+------------------+\n",
            "only showing top 20 rows\n",
            "\n"
          ]
        }
      ]
    },
    {
      "cell_type": "code",
      "source": [
        "!pip install hilbertcurve"
      ],
      "metadata": {
        "colab": {
          "base_uri": "https://localhost:8080/"
        },
        "id": "YM-u5w0IXO06",
        "outputId": "f6049a09-a46f-4cda-8dc8-f1d773984878"
      },
      "execution_count": 18,
      "outputs": [
        {
          "output_type": "stream",
          "name": "stdout",
          "text": [
            "Collecting hilbertcurve\n",
            "  Downloading hilbertcurve-2.0.5-py3-none-any.whl.metadata (11 kB)\n",
            "Requirement already satisfied: numpy in /usr/local/lib/python3.10/dist-packages (from hilbertcurve) (1.26.4)\n",
            "Downloading hilbertcurve-2.0.5-py3-none-any.whl (8.6 kB)\n",
            "Installing collected packages: hilbertcurve\n",
            "Successfully installed hilbertcurve-2.0.5\n"
          ]
        }
      ]
    },
    {
      "cell_type": "markdown",
      "source": [
        "We implement a Hilbert curve transformation to spatial data, enabling efficient spatial indexing and querying. It first defines functions to calculate Hilbert values based on normalized latitude and longitude coordinates within a specified grid size. The apply_hilbert_curve function processes each row, checking for missing values and computing the corresponding Hilbert value for valid entries. The DataFrame is cleaned to remove rows with null values before mapping the transformation function across the data. The resulting RDD is filtered to exclude any None values and is then converted back into a DataFrame with a defined schema. Finally, the transformed DataFrame is displayed and can be saved to a CSV file for further analysis or use.\n",
        "\n",
        "\n",
        "\n",
        "\n"
      ],
      "metadata": {
        "id": "wKLkwvasEWUy"
      }
    },
    {
      "cell_type": "code",
      "source": [
        "# 2.1\n",
        "from pyspark.sql import functions as F\n",
        "from pyspark.sql.types import StructType, StructField, IntegerType, StringType, TimestampType\n",
        "from pyspark.sql import Row\n",
        "import math\n",
        "\n",
        "# Helper function to calculate Hilbert value for 2D coordinates (lat, lon)\n",
        "def hilbert_curve(lat, lon, grid_size=256):\n",
        "    \"\"\"\n",
        "    Given a latitude and longitude, calculate the corresponding Hilbert value\n",
        "    within a grid of grid_size x grid_size.\n",
        "    \"\"\"\n",
        "\n",
        "    # Normalize the latitude and longitude to the grid's range\n",
        "    min_lat, max_lat = 53.3, 53.6  # Example bounding box\n",
        "    min_lon, max_lon = -2.3, -2.1  # Example bounding box\n",
        "\n",
        "    # Normalize coordinates to [0, grid_size-1]\n",
        "    x = int((lon - min_lon) / (max_lon - min_lon) * (grid_size - 1))\n",
        "    y = int((lat - min_lat) / (max_lat - min_lat) * (grid_size - 1))\n",
        "\n",
        "    # Now calculate the Hilbert value for the grid cell (x, y)\n",
        "    hilbert_value = xy_to_hilbert(x, y, grid_size)\n",
        "\n",
        "    return hilbert_value\n",
        "\n",
        "# Function to convert (x, y) coordinates into Hilbert value\n",
        "def xy_to_hilbert(x, y, grid_size=256):\n",
        "    \"\"\"\n",
        "    Convert (x, y) coordinates in a grid of size `grid_size` to a Hilbert curve value.\n",
        "    \"\"\"\n",
        "    hilbert_value = 0\n",
        "    n = grid_size\n",
        "\n",
        "    for s in reversed(range(int(math.log2(n)))):\n",
        "        mask = 1 << s\n",
        "        rx = (x & mask) >> s  # bitwise operation to extract bit for x\n",
        "        ry = (y & mask) >> s  # bitwise operation to extract bit for y\n",
        "        hilbert_value = (hilbert_value << 2) | (rx ^ ry)  # Combine bits into hilbert_value\n",
        "        x, y = rotate(x, y, rx, s)\n",
        "        x, y = rotate(x, y, ry, s)\n",
        "\n",
        "    return hilbert_value\n",
        "\n",
        "# Helper function to rotate coordinates\n",
        "def rotate(x, y, res, s):\n",
        "    \"\"\"\n",
        "    Rotate the (x, y) coordinates based on the Hilbert curve transformation.\n",
        "    \"\"\"\n",
        "    if res == 0:\n",
        "        return x, y\n",
        "    if s % 2 == 0:\n",
        "        return y, x\n",
        "    return x, y\n",
        "\n",
        "# Apply the Hilbert curve transformation on the spatial data\n",
        "def apply_hilbert_curve(row):\n",
        "    # Check for missing latitude, longitude or timestamp\n",
        "    if row[\"latitude\"] is None or row[\"longitude\"] is None or row[\"created_at\"] is None:\n",
        "        return None\n",
        "\n",
        "    lat = row[\"latitude\"]\n",
        "    lon = row[\"longitude\"]\n",
        "    timestamp = row[\"created_at\"]\n",
        "\n",
        "    # Compute the Hilbert value for the coordinates\n",
        "    hilbert_value = hilbert_curve(lat, lon)\n",
        "\n",
        "    return Row(hilbert_value=hilbert_value, timestamp=timestamp)\n",
        "\n",
        "# clean up any rows with missing values\n",
        "my_df_cleaned = my_df.filter(\n",
        "    col(\"latitude\").isNotNull() &\n",
        "    col(\"longitude\").isNotNull() &\n",
        "    col(\"created_at\").isNotNull()\n",
        ")\n",
        "\n",
        "# Map over the DataFrame to apply the Hilbert curve transformation\n",
        "hilbert_rdd = my_df_cleaned.rdd.map(apply_hilbert_curve)\n",
        "\n",
        "# Filter out None values resulting from invalid rows\n",
        "hilbert_rdd = hilbert_rdd.filter(lambda row: row is not None)\n",
        "\n",
        "# Check the first 5 rows to make sure the transformation is working\n",
        "print(\"First 5 rows of hilbert_rdd:\")\n",
        "print(hilbert_rdd.take(5))\n",
        "\n",
        "# Convert the RDD back to DataFrame with the appropriate schema\n",
        "hilbert_schema = StructType([\n",
        "    StructField(\"hilbert_value\", IntegerType(), False),\n",
        "    StructField(\"timestamp\", TimestampType(), False)\n",
        "])\n",
        "\n",
        "hilbert_df = spark.createDataFrame(hilbert_rdd, hilbert_schema)\n",
        "\n",
        "# Show the transformed data\n",
        "hilbert_df.show(truncate=False)\n",
        "\n",
        "# Save the result to a file\n",
        "hilbert_df.write.option(\"header\", \"true\").csv(\"/content/drive/MyDrive/hilbert_transformed_data3.csv\")\n"
      ],
      "metadata": {
        "id": "xzoMuy48VjJ0",
        "colab": {
          "base_uri": "https://localhost:8080/"
        },
        "outputId": "02227bc3-d4f5-4428-f498-530dd29ac5d0"
      },
      "execution_count": 38,
      "outputs": [
        {
          "output_type": "stream",
          "name": "stdout",
          "text": [
            "First 5 rows of hilbert_rdd:\n",
            "[Row(hilbert_value=20737, timestamp=datetime.datetime(2017, 7, 22, 9, 2, 53)), Row(hilbert_value=1041, timestamp=datetime.datetime(2017, 7, 22, 9, 2, 53)), Row(hilbert_value=17429, timestamp=datetime.datetime(2017, 7, 22, 9, 2, 53)), Row(hilbert_value=17409, timestamp=datetime.datetime(2017, 7, 22, 9, 2, 52)), Row(hilbert_value=20757, timestamp=datetime.datetime(2017, 7, 22, 9, 2, 53))]\n",
            "+-------------+-------------------+\n",
            "|hilbert_value|timestamp          |\n",
            "+-------------+-------------------+\n",
            "|20737        |2017-07-22 09:02:53|\n",
            "|1041         |2017-07-22 09:02:53|\n",
            "|17429        |2017-07-22 09:02:53|\n",
            "|17409        |2017-07-22 09:02:52|\n",
            "|20757        |2017-07-22 09:02:53|\n",
            "|1297         |2017-07-22 09:02:53|\n",
            "|4176         |2017-07-22 09:02:53|\n",
            "|21761        |2017-07-22 09:02:53|\n",
            "|20480        |2017-07-22 09:02:53|\n",
            "|20544        |2017-07-22 09:02:53|\n",
            "|16708        |2017-07-22 09:02:53|\n",
            "|17409        |2017-07-22 09:02:53|\n",
            "|1041         |2017-07-22 09:02:53|\n",
            "|5396         |2017-07-22 09:02:53|\n",
            "|17684        |2017-07-22 09:02:53|\n",
            "|17680        |2017-07-22 09:02:53|\n",
            "|21568        |2017-07-22 09:02:53|\n",
            "|20548        |2017-07-22 09:02:53|\n",
            "|20481        |2017-07-22 09:02:53|\n",
            "|4100         |2017-07-22 09:02:53|\n",
            "+-------------+-------------------+\n",
            "only showing top 20 rows\n",
            "\n"
          ]
        }
      ]
    },
    {
      "cell_type": "code",
      "source": [
        "SedonaRegistrator.registerAll(spark)\n"
      ],
      "metadata": {
        "colab": {
          "base_uri": "https://localhost:8080/"
        },
        "id": "uzXg-9lp4CwA",
        "outputId": "f8d3fc1e-7116-4b6c-f4ac-a9ebbebdde36"
      },
      "execution_count": 27,
      "outputs": [
        {
          "output_type": "stream",
          "name": "stderr",
          "text": [
            "<ipython-input-27-1e2c0b20acd0>:1: DeprecationWarning: Call to deprecated function registerAll (Deprecated since 1.4.1, use SedonaContext.create() instead.).\n",
            "  SedonaRegistrator.registerAll(spark)\n"
          ]
        },
        {
          "output_type": "execute_result",
          "data": {
            "text/plain": [
              "True"
            ]
          },
          "metadata": {},
          "execution_count": 27
        }
      ]
    },
    {
      "cell_type": "markdown",
      "source": [
        "We spatially partitions the cleaned data using KDB-Tree partitioning to optimize spatial queries and improve performance. By analyzing the Spatial RDD, we ensure that the data is ready for efficient spatial operations. The KDB-Tree partitioning organizes the data into manageable sections based on spatial locality, reducing the search space during queries. Building an R-Tree index on each partition further enhances query efficiency by providing a hierarchical structure for rapid access to spatial data. Finally, converting the partitioned Spatial RDD back to a DataFrame allows for easier manipulation and analysis of the partitioned data using Spark's DataFrame API.\n",
        "\n",
        "\n",
        "\n",
        "\n"
      ],
      "metadata": {
        "id": "PrD4FSzcEzvy"
      }
    },
    {
      "cell_type": "code",
      "source": [
        "# 2.2\n",
        "\n",
        "# Spatially partition the data using KDB-Tree partitioning\n",
        "spatial_rdd = Adapter.toSpatialRdd(my_df_cleaned, \"location\")\n",
        "\n",
        "# Analyze the spatial RDD\n",
        "spatial_rdd.analyze()\n",
        "\n",
        "# Perform spatial partitioning using KDB-Tree\n",
        "spatial_rdd.spatialPartitioning(GridType.KDBTREE)\n",
        "\n",
        "# Build an R-Tree index on each partition\n",
        "spatial_rdd.buildIndex(IndexType.RTREE, True)\n",
        "\n",
        "# Verify the number of partitions\n",
        "num_partitions = spatial_rdd.rawSpatialRDD.getNumPartitions()\n",
        "print(f\"Number of spatial partitions: {num_partitions}\")\n",
        "\n",
        "partitioned_df = Adapter.toDf(spatial_rdd, spark)"
      ],
      "metadata": {
        "colab": {
          "base_uri": "https://localhost:8080/"
        },
        "id": "1KHslZEh1UZL",
        "outputId": "e4c5b155-fc06-458c-e76c-5b11fd422f4e"
      },
      "execution_count": 39,
      "outputs": [
        {
          "output_type": "stream",
          "name": "stdout",
          "text": [
            "Number of spatial partitions: 3\n"
          ]
        }
      ]
    },
    {
      "cell_type": "markdown",
      "source": [
        "The spatial_temporal_range_query function performs a combined spatial and temporal query on a DataFrame containing spatial data. It begins by checking the data's range for latitude, longitude, and timestamps to ensure the query parameters are valid. The function then calculates grid-aligned coordinates and corresponding Hilbert values for the specified bounding box, which helps in efficiently filtering the data. It initially filters the DataFrame based on these Hilbert values and the specified time range, reducing the dataset size. A refinement step follows, joining the filtered results with the original DataFrame to ensure that only relevant spatial points within the exact bounds are included. Finally, the function outputs diagnostic information about the query's performance, including counts of points before and after refinement, aiding in understanding the effectiveness of the filtering process."
      ],
      "metadata": {
        "id": "5YrOMRSOFIoZ"
      }
    },
    {
      "cell_type": "code",
      "source": [
        "# 2.3\n",
        "def spatial_temporal_range_query(spark, df, x1, y1, x2, y2, t1, t2, grid_size=256):\n",
        "    import time\n",
        "    start_time = time.time()\n",
        "\n",
        "    # Print out some diagnostic information about the data\n",
        "    print(\"Data range checks:\")\n",
        "    lat_range = df.agg(F.min('latitude'), F.max('latitude')).collect()[0]\n",
        "    lon_range = df.agg(F.min('longitude'), F.max('longitude')).collect()[0]\n",
        "    ts_range = df.agg(F.min('created_at'), F.max('created_at')).collect()[0]\n",
        "\n",
        "    print(f\"Latitude range: {lat_range[0]} to {lat_range[1]}\")\n",
        "    print(f\"Longitude range: {lon_range[0]} to {lon_range[1]}\")\n",
        "    print(f\"Timestamp range: {ts_range[0]} to {ts_range[1]}\")\n",
        "\n",
        "    # Use data's actual bounds if not specified\n",
        "    min_lat = lat_range[0]\n",
        "    max_lat = lat_range[1]\n",
        "    min_lon = lon_range[0]\n",
        "    max_lon = lon_range[1]\n",
        "\n",
        "    # If no bounds provided, use full data range\n",
        "    x1 = x1 if x1 is not None else min_lon\n",
        "    y1 = y1 if y1 is not None else min_lat\n",
        "    x2 = x2 if x2 is not None else max_lon\n",
        "    y2 = y2 if y2 is not None else max_lat\n",
        "    t1 = t1 if t1 is not None else str(ts_range[0])\n",
        "    t2 = t2 if t2 is not None else str(ts_range[1])\n",
        "\n",
        "    print(f\"\\nQuery Ranges:\")\n",
        "    print(f\"Longitude: {x1} to {x2}\")\n",
        "    print(f\"Latitude: {y1} to {y2}\")\n",
        "    print(f\"Timestamp: {t1} to {t2}\")\n",
        "\n",
        "    # Expanded spatial-temporal approach\n",
        "    query_df = my_df_cleaned.filter(\n",
        "        (F.col('longitude').between(x1, x2)) &\n",
        "        (F.col('latitude').between(y1, y2)) &\n",
        "        (F.col('created_at').between(t1, t2))\n",
        "    )\n",
        "\n",
        "    #  using PySpark's spatial functions\n",
        "    try:\n",
        "        from pyspark.sql.functions import expr\n",
        "        query_df = query_df.filter(\n",
        "            expr(f\"ST_Contains(ST_PolygonFromEnvelope({x1}, {y1}, {x2}, {y2}), location)\")\n",
        "        )\n",
        "    except:\n",
        "        print(\"ST_Contains not available, using standard filtering\")\n",
        "\n",
        "    # Performance and result reporting\n",
        "    end_time = time.time()\n",
        "    total_results = query_df.count()\n",
        "\n",
        "    print(f\"\\nQuery Results:\")\n",
        "    print(f\"Total points found: {total_results}\")\n",
        "    print(f\"Query execution time: {end_time - start_time:.4f} seconds\")\n",
        "\n",
        "    return query_df\n",
        "\n",
        "# Example queries with different ranges\n",
        "# Wide range query\n",
        "result_df = spatial_temporal_range_query(\n",
        "    spark,\n",
        "    my_df_cleaned,\n",
        "    x1=-2.3,    # Minimum longitude\n",
        "    y1=53.3,    # Minimum latitude\n",
        "    x2=-2.1,    # Maximum longitude\n",
        "    y2=53.6,    # Maximum latitude\n",
        "    t1=\"2017-07-22 00:00:00\",  # Start time\n",
        "    t2=\"2017-07-22 23:59:59\"   # End time\n",
        ")\n",
        "\n",
        "# Show results\n",
        "result_df.show(10, truncate=False)\n",
        "print(\"\\nTotal results:\", result_df.count())\n",
        "\n",
        "#  Visualize the distribution\n",
        "from pyspark.sql.functions import col\n",
        "distribution = result_df.groupBy(\n",
        "    F.floor(col(\"longitude\") * 10) / 10,\n",
        "    F.floor(col(\"latitude\") * 10) / 10\n",
        ").count().orderBy(\"count\", ascending=False)\n",
        "\n",
        "print(\"\\nSpatial distribution:\")\n",
        "distribution.show(10)"
      ],
      "metadata": {
        "colab": {
          "base_uri": "https://localhost:8080/"
        },
        "id": "1WlbxLe3XJjj",
        "outputId": "c50d3666-9bce-44ae-e506-493a2e76c948"
      },
      "execution_count": 40,
      "outputs": [
        {
          "output_type": "stream",
          "name": "stdout",
          "text": [
            "Data range checks:\n",
            "Latitude range: -89.43579825 to 78.62645647\n",
            "Longitude range: -178.72606449 to 178.45017672\n",
            "Timestamp range: 2017-07-22 09:02:52 to 2017-07-22 09:48:54\n",
            "\n",
            "Query Ranges:\n",
            "Longitude: -2.3 to -2.1\n",
            "Latitude: 53.3 to 53.6\n",
            "Timestamp: 2017-07-22 00:00:00 to 2017-07-22 23:59:59\n",
            "\n",
            "Query Results:\n",
            "Total points found: 320\n",
            "Query execution time: 17.4975 seconds\n",
            "+-------------------+--------------------------------------------------------------------------------------------------------------------------------------------+----------+------------------+------------------------------------+\n",
            "|created_at         |text                                                                                                                                        |longitude |latitude          |location                            |\n",
            "+-------------------+--------------------------------------------------------------------------------------------------------------------------------------------+----------+------------------+------------------------------------+\n",
            "|2017-07-22 09:02:53|@AmandaMullen3 @scottclarke948 Nothing but nothing beats feeling proud ❤❤ I'm made up for you all                                           |-2.23348  |53.4569525        |POINT (-2.23348 53.4569525)         |\n",
            "|2017-07-22 09:02:57|#shoplocal #supportindependent #cheshire #stockport #poynton @ UBAgene smoke-grill-bakery https://t.co/uIpPkIxGnq                           |-2.1231491|53.3468493        |POINT (-2.1231491 53.3468493)       |\n",
            "|2017-07-22 09:02:58|i love my lane https://t.co/TCMbRyP4w0                                                                                                      |-2.23348  |53.4569525        |POINT (-2.23348 53.4569525)         |\n",
            "|2017-07-22 09:03:11|So today is #NewcastlePride #HullPride and #BrightonPride and I'm not at any of them! Roll on @LiverpoolPride next… https://t.co/9yjc6nHtzV |-2.23348  |53.4569525        |POINT (-2.23348 53.4569525)         |\n",
            "|2017-07-22 09:03:17|@REDHOTBLUE79 great pic anyway 😂😂                                                                                                         |-2.202075 |53.548435999999995|POINT (-2.202075 53.548435999999995)|\n",
            "|2017-07-22 09:03:33|Need to plan a trip to Spain next season now the La Liga fixtures are out. I'd love to do both Malaga and Real Betis in one go.             |-2.23348  |53.4569525        |POINT (-2.23348 53.4569525)         |\n",
            "|2017-07-22 09:03:41|✈️✨🌎 https://t.co/k1e0blF7LI                                                                                                               |-2.23348  |53.4569525        |POINT (-2.23348 53.4569525)         |\n",
            "|2017-07-22 09:03:46|@blanchyshed @doctorcaldwell Bullying alone costs #NHS £1 Billion a year! @NHSEngland @NHSImprovement @NHSProviders… https://t.co/XXXOTDuSsF|-2.23348  |53.4569525        |POINT (-2.23348 53.4569525)         |\n",
            "|2017-07-22 09:04:04|Also, if you're actually there watching can you can only realistically watch one hole too?                                                  |-2.23348  |53.4569525        |POINT (-2.23348 53.4569525)         |\n",
            "|2017-07-22 09:04:06|@AcademyManUtd @EamonnJBurns                                                                                                                |-2.1556405|53.4146085        |POINT (-2.1556405 53.4146085)       |\n",
            "+-------------------+--------------------------------------------------------------------------------------------------------------------------------------------+----------+------------------+------------------------------------+\n",
            "only showing top 10 rows\n",
            "\n",
            "\n",
            "Total results: 320\n",
            "\n",
            "Spatial distribution:\n",
            "+------------------------------+-----------------------------+-----+\n",
            "|(floor((longitude * 10)) / 10)|(floor((latitude * 10)) / 10)|count|\n",
            "+------------------------------+-----------------------------+-----+\n",
            "|                          -2.3|                         53.4|  234|\n",
            "|                          -2.2|                         53.4|   29|\n",
            "|                          -2.2|                         53.3|   21|\n",
            "|                          -2.3|                         53.5|   16|\n",
            "|                          -2.2|                         53.5|   14|\n",
            "|                          -2.3|                         53.3|    6|\n",
            "+------------------------------+-----------------------------+-----+\n",
            "\n"
          ]
        }
      ]
    }
  ]
}